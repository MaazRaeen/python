{
 "cells": [
  {
   "cell_type": "code",
   "execution_count": 12,
   "metadata": {},
   "outputs": [
    {
     "name": "stdout",
     "output_type": "stream",
     "text": [
      "<class 'tuple'>\n"
     ]
    }
   ],
   "source": [
    "tup=1,2,3,4,\n",
    "print(type(tup))"
   ]
  },
  {
   "cell_type": "code",
   "execution_count": 13,
   "metadata": {},
   "outputs": [
    {
     "name": "stdout",
     "output_type": "stream",
     "text": [
      "2\n",
      "3\n"
     ]
    }
   ],
   "source": [
    "tup=(1,3,2,3,4,5222,2,2,4)\n",
    "print(tup.index(2))\n",
    "print(tup.count(2))\n"
   ]
  },
  {
   "cell_type": "code",
   "execution_count": 14,
   "metadata": {},
   "outputs": [
    {
     "name": "stdout",
     "output_type": "stream",
     "text": [
      "['avengers', 'spider', 'dr.s.']\n",
      "<class 'list'>\n"
     ]
    }
   ],
   "source": [
    "# Q.WAP to ask the user to enter names of their 3 favorite movies & store them in a list.\n",
    "movies=[]\n",
    "mov1=input(\"enter 1st movie name\")\n",
    "mov2=input(\"enter 2nd movie name\")\n",
    "mov3=input(\"enter 3rd movie name\")\n",
    "movies.append(mov1)\n",
    "movies.append(mov2)\n",
    "movies.append(mov3)\n",
    "print(movies)\n",
    "print(type(movies))"
   ]
  },
  {
   "cell_type": "code",
   "execution_count": 15,
   "metadata": {},
   "outputs": [
    {
     "name": "stdout",
     "output_type": "stream",
     "text": [
      "palindrome\n"
     ]
    }
   ],
   "source": [
    "list1=[1,2,1]\n",
    "copy_list1=list1.copy()\n",
    "copy_list1.reverse()\n",
    "if (copy_list1==list1):\n",
    "    print(\"palindrome\")\n",
    "else:\n",
    "    print(\"not palindrome\")"
   ]
  },
  {
   "cell_type": "code",
   "execution_count": 16,
   "metadata": {},
   "outputs": [
    {
     "name": "stdout",
     "output_type": "stream",
     "text": [
      "3\n",
      "<class 'tuple'>\n"
     ]
    }
   ],
   "source": [
    "# Q.WAP to count the number of students with the \"A\" grade in the following tuple.\n",
    "grades=(\"C\", \"D\", \"A\", \"A\", \"B\", \"B\", \"A\")\n",
    "print(grades.count(\"A\"))\n",
    "print(type(grades))"
   ]
  },
  {
   "cell_type": "code",
   "execution_count": 17,
   "metadata": {},
   "outputs": [
    {
     "name": "stdout",
     "output_type": "stream",
     "text": [
      "['A', 'A', 'A', 'B', 'B', 'C', 'D']\n"
     ]
    }
   ],
   "source": [
    "# Q.Store the above values in a list & sort them from \"A\" to \"D\".\n",
    "grades1=[\"C\", \"D\", \"A\", \"A\", \"B\", \"B\", \"A\"]\n",
    "grades1.sort()\n",
    "print(grades1)\n"
   ]
  },
  {
   "cell_type": "code",
   "execution_count": 18,
   "metadata": {},
   "outputs": [
    {
     "name": "stdout",
     "output_type": "stream",
     "text": [
      "{'name': 'maaz', 'roll no': 2023322256, 'marks': [87, 89, 43], 'firstname': 'mohd', 'lastname': 'raeen'}\n"
     ]
    }
   ],
   "source": [
    "dict={\n",
    "\n",
    "    \"name\":\"maaz\",\n",
    "    \"roll no\":2023322256,\n",
    "    \"marks\":[87,89,43],\n",
    "    \n",
    "}\n",
    "dict[\"firstname\"]=\"mohd\"\n",
    "dict[\"lastname\"]=\"raeen\"\n",
    "dict[\"name\"]=\"maaz\"\n",
    "print(dict)"
   ]
  },
  {
   "cell_type": "code",
   "execution_count": 19,
   "metadata": {},
   "outputs": [
    {
     "name": "stdout",
     "output_type": "stream",
     "text": [
      "{'name': 'mohd Maaz Raeen', 'marks': {'phy': 75, 'english': 85, 'maths': 78}, 'B.tech': 'ai and ml'}\n",
      "85\n"
     ]
    }
   ],
   "source": [
    "# nested dict\n",
    "info={\n",
    "    \"name\":(\"mohd Maaz Raeen\"),\n",
    "    \"marks\":({\"phy\":75,\"english\":85,\"maths\":78}),\n",
    "    \"B.tech\":(\"ai and ml\")\n",
    "    \n",
    "}\n",
    "print(info)\n",
    "print(info[\"marks\"][\"english\"])"
   ]
  },
  {
   "cell_type": "code",
   "execution_count": 20,
   "metadata": {},
   "outputs": [
    {
     "name": "stdout",
     "output_type": "stream",
     "text": [
      "dict_keys(['name', 'marks', 'B.tech'])\n",
      "dict_values(['mohd Maaz Raeen', {'phy': 75, 'english': 85, 'maths': 78}, 'ai and ml'])\n",
      "dict_values(['mohd Maaz Raeen', {'phy': 75, 'english': 85, 'maths': 78}, 'ai and ml'])\n",
      "mohd Maaz Raeen\n",
      "{'name': 'mohd Maaz Raeen', 'marks': {'phy': 75, 'english': 85, 'maths': 78}, 'B.tech': 'ai and ml', 'city': 'delhi'}\n"
     ]
    }
   ],
   "source": [
    "#dictionary method.\n",
    "print(info.keys())#returns all keys\n",
    "\n",
    "print(info.values())#returns all values\n",
    "\n",
    "print(info.values())#returns all (key, val) pairs as tuples\n",
    "\n",
    "#print(info[\"name2\"]) #error\n",
    "#print(info.get(\"name2\")) #none\n",
    "print(info.get(\"name\"))#returns the key according to value\n",
    "\n",
    "info.update({\"city\":\"delhi\"})\n",
    "#info.update({\"name\":\"maaz\"})\n",
    "\n",
    "print(info)\n",
    " "
   ]
  },
  {
   "cell_type": "markdown",
   "metadata": {},
   "source": [
    "#sets in python"
   ]
  },
  {
   "cell_type": "code",
   "execution_count": 21,
   "metadata": {},
   "outputs": [
    {
     "name": "stdout",
     "output_type": "stream",
     "text": [
      "{1, 2, 3, 4, 5, 'world', 'hello'}\n",
      "<class 'set'>\n",
      "7\n"
     ]
    }
   ],
   "source": [
    "set1={1,2,3,4,4,4,5,3,3,\"hello\",\"hello\",\"world\",\"world\"}#returns randomly...\n",
    "print(set1)\n",
    "print(type(set1))\n",
    "print(len(set1))\n"
   ]
  },
  {
   "cell_type": "code",
   "execution_count": 22,
   "metadata": {},
   "outputs": [
    {
     "name": "stdout",
     "output_type": "stream",
     "text": [
      "<class 'set'>\n",
      "{1, 3}\n"
     ]
    }
   ],
   "source": [
    "set1=set()\n",
    "print(type(set1))\n",
    "set1.add(1)\n",
    "set1.add(2)\n",
    "set1.add(3)\n",
    "set1.remove(2)\n",
    "print(set1)\n",
    "\n"
   ]
  },
  {
   "cell_type": "code",
   "execution_count": 23,
   "metadata": {},
   "outputs": [],
   "source": [
    "def my_info():\n",
    "  \"\"\"this is a function to print my information \"\"\"#docstring\n",
    "  name=\"maaz\"\n",
    "  system_id=2023322256\n",
    "  print(\"i am \",name,\"and my system id\",system_id,)"
   ]
  },
  {
   "cell_type": "code",
   "execution_count": 24,
   "metadata": {},
   "outputs": [
    {
     "name": "stdout",
     "output_type": "stream",
     "text": [
      "i am  maaz and my system id 2023322256\n",
      "None\n"
     ]
    }
   ],
   "source": [
    "print(my_info())"
   ]
  },
  {
   "cell_type": "code",
   "execution_count": 25,
   "metadata": {},
   "outputs": [],
   "source": [
    "# Q.\n",
    "def discount(p):\n",
    "    for i in range(5,21,5):\n",
    "      \"price after\",i,\" % discount is \",p-i/100*p"
   ]
  },
  {
   "cell_type": "code",
   "execution_count": 26,
   "metadata": {},
   "outputs": [],
   "source": [
    "def integer(i):\n",
    "    if i%2==0:\n",
    "        print(\"even number\")\n",
    "    else:\n",
    "        print(\"odd number\")\n",
    "    "
   ]
  },
  {
   "cell_type": "code",
   "execution_count": 27,
   "metadata": {},
   "outputs": [
    {
     "name": "stdout",
     "output_type": "stream",
     "text": [
      "odd number\n"
     ]
    }
   ],
   "source": [
    "integer(3)"
   ]
  },
  {
   "cell_type": "code",
   "execution_count": 28,
   "metadata": {},
   "outputs": [],
   "source": [
    "def inte(num):\n",
    "    return num%2==0"
   ]
  },
  {
   "cell_type": "code",
   "execution_count": 29,
   "metadata": {},
   "outputs": [
    {
     "data": {
      "text/plain": [
       "True"
      ]
     },
     "execution_count": 29,
     "metadata": {},
     "output_type": "execute_result"
    }
   ],
   "source": [
    "inte(4)"
   ]
  },
  {
   "cell_type": "code",
   "execution_count": 30,
   "metadata": {},
   "outputs": [
    {
     "name": "stdout",
     "output_type": "stream",
     "text": [
      "{'table': ['a piece of furniture', 'list of facts & figures'], 'cat': ['a small animal']}\n"
     ]
    }
   ],
   "source": [
    "dictionary={\n",
    "    \"table\":[\"a piece of furniture\", \"list of facts & figures\"],\n",
    "    \"cat\":([\"a small animal\"])\n",
    "   \n",
    "} \n",
    "print(dictionary)"
   ]
  },
  {
   "cell_type": "code",
   "execution_count": 31,
   "metadata": {},
   "outputs": [
    {
     "name": "stdout",
     "output_type": "stream",
     "text": [
      "{'phy': 78, 'maths': 90, 'python': 98, 'c': 8}\n"
     ]
    }
   ],
   "source": [
    "# Q.WAP to enter marks of 3 subjects from the user and store them in a dictionary. Start with an empty dictionary & add one by one. Use subject name as key & marks as value.\n",
    "marks={}\n",
    "\n",
    "x=int(input(\"enter phy :\"))\n",
    "marks.update({\"phy\":x})\n",
    "\n",
    "x=int(input(\"enter maths :\"))\n",
    "marks.update({\"maths\":x})\n",
    "\n",
    "x=int(input(\"enter python :\"))\n",
    "marks.update({\"python\":x})\n",
    "\n",
    "x=int(input(\"enter c :\"))\n",
    "marks.update({\"c\":x})\n",
    "\n",
    "print(marks)"
   ]
  },
  {
   "cell_type": "code",
   "execution_count": 32,
   "metadata": {},
   "outputs": [
    {
     "name": "stdout",
     "output_type": "stream",
     "text": [
      "mohd raeen\n"
     ]
    }
   ],
   "source": [
    "name=\"maaz raeen\"\n",
    "print(name.replace(\"maaz\",\"mohd\"))\n",
    "# print(new_name)"
   ]
  },
  {
   "cell_type": "code",
   "execution_count": 33,
   "metadata": {},
   "outputs": [
    {
     "name": "stdout",
     "output_type": "stream",
     "text": [
      "10\n",
      "13\n",
      "16\n",
      "19\n"
     ]
    }
   ],
   "source": [
    "for i in range(10,20,3):\n",
    "    print(i)"
   ]
  },
  {
   "cell_type": "code",
   "execution_count": 34,
   "metadata": {},
   "outputs": [
    {
     "name": "stdout",
     "output_type": "stream",
     "text": [
      "p\n",
      "y\n",
      "t\n",
      "h\n",
      "o\n",
      "n\n"
     ]
    }
   ],
   "source": [
    "word='python'\n",
    "for i in word:\n",
    "    print(i)"
   ]
  },
  {
   "cell_type": "code",
   "execution_count": 35,
   "metadata": {},
   "outputs": [
    {
     "name": "stdout",
     "output_type": "stream",
     "text": [
      "23\n",
      "4\n",
      "5\n",
      "6\n",
      "7\n",
      "55\n",
      "54\n",
      "maaz\n",
      "no item in list\n"
     ]
    }
   ],
   "source": [
    "list1=[23,4,5,6,7,55,54,\"maaz\"]\n",
    "for i in list1:\n",
    "    print(i)\n",
    "else:\n",
    "    print(\"no item in list\")"
   ]
  },
  {
   "cell_type": "code",
   "execution_count": 36,
   "metadata": {},
   "outputs": [
    {
     "name": "stdout",
     "output_type": "stream",
     "text": [
      "price after discount 38000.0\n",
      "price after discount 36000.0\n",
      "price after discount 34000.0\n",
      "price after discount 32000.0\n"
     ]
    }
   ],
   "source": [
    "phone_price=int(40000)\n",
    "for i in range(5,21,5):\n",
    "    print(\"price after discount\",phone_price-(phone_price*i)/100)"
   ]
  },
  {
   "cell_type": "code",
   "execution_count": 37,
   "metadata": {},
   "outputs": [
    {
     "name": "stdout",
     "output_type": "stream",
     "text": [
      "2 * 1 = 2\n",
      "2 * 2 = 4\n",
      "2 * 3 = 6\n",
      "2 * 4 = 8\n",
      "2 * 5 = 10\n",
      "2 * 6 = 12\n",
      "2 * 7 = 14\n",
      "2 * 8 = 16\n",
      "2 * 9 = 18\n",
      "2 * 10 = 20\n"
     ]
    }
   ],
   "source": [
    "num=2\n",
    "for i in range(1,11):\n",
    "    print(num,\"*\",i ,\"=\",num*i)"
   ]
  },
  {
   "cell_type": "code",
   "execution_count": 38,
   "metadata": {},
   "outputs": [
    {
     "name": "stdout",
     "output_type": "stream",
     "text": [
      "2\n",
      "4\n",
      "6\n",
      "8\n",
      "10\n"
     ]
    }
   ],
   "source": [
    "for i in range(2,11):\n",
    "    if i%2==0:\n",
    "        print(i)"
   ]
  },
  {
   "cell_type": "code",
   "execution_count": 39,
   "metadata": {},
   "outputs": [
    {
     "name": "stdout",
     "output_type": "stream",
     "text": [
      "loop condition is false\n"
     ]
    }
   ],
   "source": [
    "count=int(input(\"enter number\"))\n",
    "while count <5:\n",
    "    print(count)\n",
    "    count+=1\n",
    "else:\n",
    "    print(\"loop condition is false\")"
   ]
  },
  {
   "cell_type": "code",
   "execution_count": 40,
   "metadata": {},
   "outputs": [
    {
     "name": "stdout",
     "output_type": "stream",
     "text": [
      "Loop condition is no longer true\n"
     ]
    }
   ],
   "source": [
    "count = int(input(\"Enter a number: \"))\n",
    "\n",
    "while count < 5:\n",
    "    print(count)\n",
    "    count += 1\n",
    "else:\n",
    "    print(\"Loop condition is no longer true\")\n"
   ]
  },
  {
   "cell_type": "code",
   "execution_count": 41,
   "metadata": {},
   "outputs": [
    {
     "name": "stdout",
     "output_type": "stream",
     "text": [
      "38000.0\n",
      "36000.0\n",
      "34000.0\n",
      "32000.0\n"
     ]
    }
   ],
   "source": [
    "price=40000\n",
    "i=5\n",
    "while i<=20:\n",
    "    discount_price=price-(price*i)/100\n",
    "    print(discount_price)\n",
    "    i=i+5\n",
    "        "
   ]
  },
  {
   "cell_type": "code",
   "execution_count": 42,
   "metadata": {},
   "outputs": [
    {
     "name": "stdout",
     "output_type": "stream",
     "text": [
      "2 * 1 = 2\n",
      "2 * 2 = 4\n",
      "2 * 3 = 6\n",
      "2 * 4 = 8\n",
      "2 * 5 = 10\n",
      "2 * 6 = 12\n",
      "2 * 7 = 14\n",
      "2 * 8 = 16\n",
      "2 * 9 = 18\n",
      "2 * 10 = 20\n"
     ]
    }
   ],
   "source": [
    "count=1\n",
    "while count<=10:\n",
    "    print(\"2 *\",count,\"=\",2*count)\n",
    "    count+=1"
   ]
  },
  {
   "cell_type": "code",
   "execution_count": 43,
   "metadata": {},
   "outputs": [
    {
     "name": "stdout",
     "output_type": "stream",
     "text": [
      "2\n",
      "4\n",
      "6\n",
      "8\n",
      "10\n"
     ]
    }
   ],
   "source": [
    "num=2\n",
    "while num<=10:\n",
    "    if num%2==0:\n",
    "     print(num)\n",
    "    num+=1"
   ]
  },
  {
   "cell_type": "code",
   "execution_count": 44,
   "metadata": {},
   "outputs": [
    {
     "name": "stdout",
     "output_type": "stream",
     "text": [
      "True\n",
      "True\n"
     ]
    }
   ],
   "source": [
    "value=[\"sdhbfhe\",True]\n",
    "print(any(value))\n",
    "print(all(value))"
   ]
  },
  {
   "cell_type": "code",
   "execution_count": 45,
   "metadata": {},
   "outputs": [
    {
     "name": "stdout",
     "output_type": "stream",
     "text": [
      "False\n",
      "True\n"
     ]
    }
   ],
   "source": [
    "value=[]\n",
    "print(any(value))\n",
    "print(all(value))"
   ]
  },
  {
   "cell_type": "code",
   "execution_count": 46,
   "metadata": {},
   "outputs": [
    {
     "name": "stdout",
     "output_type": "stream",
     "text": [
      "True\n"
     ]
    }
   ],
   "source": [
    "num=[1,4,53,21,6]\n",
    "result=any(x>10 for x in num )\n",
    "print(result)"
   ]
  },
  {
   "cell_type": "code",
   "execution_count": 47,
   "metadata": {},
   "outputs": [
    {
     "name": "stdout",
     "output_type": "stream",
     "text": [
      "False\n"
     ]
    }
   ],
   "source": [
    "nums=[1,2,3,4,5,6,8]\n",
    "check=all(x%2==0 for x in nums)\n",
    "print(check)"
   ]
  },
  {
   "cell_type": "code",
   "execution_count": 48,
   "metadata": {},
   "outputs": [
    {
     "name": "stdout",
     "output_type": "stream",
     "text": [
      "maaz is 19 years old\n",
      "priyanshu is 20 years old\n",
      "lareb is 19 years old\n"
     ]
    }
   ],
   "source": [
    "names=[\"maaz\",\"priyanshu\",\"lareb\"]\n",
    "ages=[19,20,19]\n",
    "for name, age in zip(names,ages):\n",
    "    print(name,\"is\",age,\"years old\")"
   ]
  },
  {
   "cell_type": "code",
   "execution_count": 49,
   "metadata": {},
   "outputs": [
    {
     "name": "stdout",
     "output_type": "stream",
     "text": [
      "0 banana\n",
      "1 apple\n",
      "2 mango\n"
     ]
    }
   ],
   "source": [
    "fruits=[\"banana\",\"apple\",\"mango\"]\n",
    "for index,value in enumerate(fruits):\n",
    "    print(index,value)"
   ]
  },
  {
   "cell_type": "code",
   "execution_count": 50,
   "metadata": {},
   "outputs": [
    {
     "name": "stdout",
     "output_type": "stream",
     "text": [
      "apple\n",
      "23\n",
      "banana\n",
      "392\n",
      "mango\n"
     ]
    }
   ],
   "source": [
    "list1=[\"apple\",23,\"banana\",392,\"mango\"]\n",
    "for i in list1:\n",
    "    if i==2:\n",
    "        break\n",
    "    print(i)"
   ]
  },
  {
   "cell_type": "code",
   "execution_count": 51,
   "metadata": {},
   "outputs": [
    {
     "name": "stdout",
     "output_type": "stream",
     "text": [
      "90 is greater than 50\n"
     ]
    }
   ],
   "source": [
    "number=[12,3,45,90,34,15]\n",
    "for num in number:\n",
    "    if num>50:\n",
    "        print(num,\"is greater than 50\")\n",
    "        break\n",
    "    "
   ]
  },
  {
   "cell_type": "code",
   "execution_count": 52,
   "metadata": {},
   "outputs": [
    {
     "name": "stdout",
     "output_type": "stream",
     "text": [
      "78 is greater than 50\n"
     ]
    }
   ],
   "source": [
    "number = int(input(\"Enter a number: \"))\n",
    "\n",
    "while number > 50:\n",
    "    print(number, \"is greater than 50\")\n",
    "    break"
   ]
  },
  {
   "cell_type": "code",
   "execution_count": 53,
   "metadata": {},
   "outputs": [
    {
     "name": "stdout",
     "output_type": "stream",
     "text": [
      "login unsuccessful\n"
     ]
    }
   ],
   "source": [
    "correct_password = \"secerate\"\n",
    "password=input(\"enter password\")\n",
    "if password==correct_password:\n",
    "    print(\"login successfully\")\n",
    "else:\n",
    "    print(\"login unsuccessful\")\n",
    "    \n"
   ]
  },
  {
   "cell_type": "code",
   "execution_count": 54,
   "metadata": {},
   "outputs": [
    {
     "name": "stdout",
     "output_type": "stream",
     "text": [
      "login unsuccessful\n"
     ]
    }
   ],
   "source": [
    "correct_password = \"secerate\"\n",
    "while True:\n",
    "    password=input(\"enter the password\")\n",
    "    if password==correct_password:\n",
    "            print(\"login successfully\")\n",
    "            break\n",
    "    else:\n",
    "             print(\"login unsuccessful\")\n",
    "             break\n",
    "        \n"
   ]
  },
  {
   "cell_type": "code",
   "execution_count": 55,
   "metadata": {},
   "outputs": [
    {
     "name": "stdout",
     "output_type": "stream",
     "text": [
      "login unsuccessful\n",
      "login unsuccessful\n",
      "login unsuccessful\n",
      "more than 3 times account blocked\n"
     ]
    }
   ],
   "source": [
    "correct_password = \"secerate\"\n",
    "i=1\n",
    "while i<=3:\n",
    "    password=input(\"enter the password\")\n",
    "    if password==correct_password:\n",
    "            print(\"login successfully\")\n",
    "            break\n",
    "    else:\n",
    "             print(\"login unsuccessful\")\n",
    "             i=i+1\n",
    "else:\n",
    "    print(\"more than 3 times account blocked\")"
   ]
  },
  {
   "cell_type": "code",
   "execution_count": 56,
   "metadata": {},
   "outputs": [
    {
     "name": "stdout",
     "output_type": "stream",
     "text": [
      "[1, 2, 3, 4, 5, 6, 6]\n",
      "[1, 2, 3, 4, 5, 6, 6]\n",
      "[1, 2, 3, 4, 5, 6, 6]\n"
     ]
    }
   ],
   "source": [
    "nums=[1,2,3,4,5,6,6]\n",
    "for i in nums:\n",
    "    if i%2!=0:\n",
    "        print(nums)"
   ]
  },
  {
   "cell_type": "code",
   "execution_count": 57,
   "metadata": {},
   "outputs": [
    {
     "name": "stdout",
     "output_type": "stream",
     "text": [
      "The student's grade is: F\n"
     ]
    }
   ],
   "source": [
    "score = int(input(\"Enter the student's score: \"))\n",
    "\n",
    "if score >= 90:\n",
    "    grade = 'A'\n",
    "else:\n",
    "    if score >= 80:\n",
    "        grade = 'B'\n",
    "    else:\n",
    "        if score >= 70:\n",
    "            grade = 'C'\n",
    "        else:\n",
    "            if score >= 60:\n",
    "                grade = 'D'\n",
    "            else:\n",
    "                grade = 'F'\n",
    "\n",
    "print(\"The student's grade is:\", grade)\n"
   ]
  },
  {
   "cell_type": "code",
   "execution_count": 58,
   "metadata": {},
   "outputs": [
    {
     "name": "stdout",
     "output_type": "stream",
     "text": [
      "1\n",
      "2\n",
      "3\n"
     ]
    }
   ],
   "source": [
    "numbers = [1, 2, 3, 4, 5]\n",
    "for number in numbers:\n",
    "  if number > 3:\n",
    "    break  # Exit the loop once a number greater than 3 is found\n",
    "  print(number)\n"
   ]
  },
  {
   "cell_type": "code",
   "execution_count": 59,
   "metadata": {},
   "outputs": [
    {
     "name": "stdout",
     "output_type": "stream",
     "text": [
      "a\n",
      "l\n",
      "e\n"
     ]
    }
   ],
   "source": [
    "letters = 'apple'\n",
    "for letter in letters:\n",
    "  if letter == 'p':\n",
    "    continue  # Skip printing 'p'\n",
    "  print(letter)\n"
   ]
  },
  {
   "cell_type": "code",
   "execution_count": 60,
   "metadata": {},
   "outputs": [
    {
     "name": "stdout",
     "output_type": "stream",
     "text": [
      "1\n"
     ]
    }
   ],
   "source": [
    "x = 5  # Binary: 101\n",
    "y = 3  # Binary: 011\n",
    "bitwise_and = x & y  # Result: 001 (Decimal: 1)\n",
    "print(bitwise_and)\n"
   ]
  },
  {
   "cell_type": "code",
   "execution_count": 61,
   "metadata": {},
   "outputs": [
    {
     "name": "stdout",
     "output_type": "stream",
     "text": [
      "Alice:\n",
      "- Math\n",
      "- Science\n",
      "\n",
      "Bob:\n",
      "- History\n",
      "- English\n",
      "\n",
      "Charlie:\n",
      "- Math\n",
      "- English\n",
      "\n"
     ]
    }
   ],
   "source": [
    "students = [\"Alice\", \"Bob\", \"Charlie\"]\n",
    "courses = {\"Alice\": [\"Math\", \"Science\"], \"Bob\": [\"History\", \"English\"], \"Charlie\": [\"Math\", \"English\"]}\n",
    "\n",
    "for student in students:  # Outer loop iterates through each student\n",
    "  print(student + \":\")\n",
    "  for course in courses[student]:  # Inner loop iterates through courses for that student\n",
    "    print(\"-\", course)\n",
    "  print()  # Print a new line after each student's schedule\n"
   ]
  },
  {
   "cell_type": "code",
   "execution_count": 62,
   "metadata": {},
   "outputs": [
    {
     "data": {
      "text/plain": [
       "'My name is Alice and I am 30 years old.'"
      ]
     },
     "execution_count": 62,
     "metadata": {},
     "output_type": "execute_result"
    }
   ],
   "source": [
    "name = 'Alice'\n",
    "age = 30\n",
    "formatted_str = f\"My name is {name} and I am {age} years old.\"\n",
    "formatted_str"
   ]
  },
  {
   "cell_type": "code",
   "execution_count": 63,
   "metadata": {},
   "outputs": [
    {
     "name": "stdout",
     "output_type": "stream",
     "text": [
      "My name is Bob and I am 25 years old.\n",
      "My name is Bob and I am 25 years old.\n",
      "My name is Bob and I am 25 years old.\n"
     ]
    }
   ],
   "source": [
    "# Using format()\n",
    "name = 'Bob'\n",
    "age = 25\n",
    "formatted_str = \"My name is {} and I am {} years old.\".format(name, age)\n",
    "print(formatted_str)\n",
    "# Positional arguments\n",
    "formatted_str_pos = \"My name is {0} and I am {1} years old.\".format(name, age)\n",
    "print(formatted_str_pos)\n",
    "# Keyword arguments\n",
    "formatted_str_kw = \"My name is {name} and I am {age} years old.\".format(name=name, age=age)\n",
    "print(formatted_str_kw)"
   ]
  },
  {
   "cell_type": "code",
   "execution_count": 64,
   "metadata": {},
   "outputs": [
    {
     "name": "stdout",
     "output_type": "stream",
     "text": [
      "z\n",
      " \n"
     ]
    }
   ],
   "source": [
    "# max(), min(): Returns the maximum and minimum characters based on ASCII values.\n",
    "my_string=\"mohd maaz\"\n",
    "max_char = max(my_string)\n",
    "print(max_char)\n",
    "min_char = min(my_string)\n",
    "print(min_char)"
   ]
  },
  {
   "cell_type": "code",
   "execution_count": 65,
   "metadata": {},
   "outputs": [
    {
     "data": {
      "text/plain": [
       "0"
      ]
     },
     "execution_count": 65,
     "metadata": {},
     "output_type": "execute_result"
    }
   ],
   "source": [
    "# count(): Count occurrences of a specific element.\n",
    "occurrences_of_seven = my_string.count('l') # Count occurrences\n",
    "occurrences_of_seven"
   ]
  },
  {
   "cell_type": "code",
   "execution_count": 66,
   "metadata": {},
   "outputs": [
    {
     "name": "stdout",
     "output_type": "stream",
     "text": [
      "['8887', '999', '8']\n"
     ]
    }
   ],
   "source": [
    "movies=[]\n",
    "movies.append(input(\"enter first movie\"))\n",
    "movies.append(input(\"enter second movie name\"))\n",
    "movies.append(input(\"enter third movie\"))\n",
    "print(movies)"
   ]
  },
  {
   "cell_type": "code",
   "execution_count": 67,
   "metadata": {},
   "outputs": [
    {
     "name": "stdout",
     "output_type": "stream",
     "text": [
      "palindrome\n"
     ]
    }
   ],
   "source": [
    "list1=[\"m\",\"a\",\"a\",\"m\"]\n",
    "copy_list1=list1.copy()\n",
    "copy_list1.reverse()\n",
    "if list1==copy_list1:\n",
    "    print(\"palindrome\")\n",
    "else:\n",
    "    print(\"nor palindrome\")"
   ]
  },
  {
   "cell_type": "code",
   "execution_count": 68,
   "metadata": {},
   "outputs": [
    {
     "name": "stdout",
     "output_type": "stream",
     "text": [
      "['A', 'A', 'A', 'B', 'B', 'C', 'C', 'D', 'b']\n"
     ]
    }
   ],
   "source": [
    "grades=[\"A\",\"B\",\"C\",\"A\",\"C\",\"D\",\"A\",\"B\",\"b\"]\n",
    "grades.sort()\n",
    "type(grades)\n",
    "print(grades)"
   ]
  },
  {
   "cell_type": "code",
   "execution_count": 69,
   "metadata": {},
   "outputs": [
    {
     "name": "stdout",
     "output_type": "stream",
     "text": [
      "Enter coordinates of first point (x1, y1):\n"
     ]
    },
    {
     "ename": "ValueError",
     "evalue": "could not convert string to float: ''",
     "output_type": "error",
     "traceback": [
      "\u001b[0;31m---------------------------------------------------------------------------\u001b[0m",
      "\u001b[0;31mValueError\u001b[0m                                Traceback (most recent call last)",
      "Cell \u001b[0;32mIn[69], line 17\u001b[0m\n\u001b[1;32m     14\u001b[0m     \u001b[38;5;28mprint\u001b[39m(\u001b[38;5;124m\"\u001b[39m\u001b[38;5;130;01m\\n\u001b[39;00m\u001b[38;5;124mThe distance between the two points is:\u001b[39m\u001b[38;5;124m\"\u001b[39m, distance)\n\u001b[1;32m     16\u001b[0m \u001b[38;5;28;01mif\u001b[39;00m \u001b[38;5;18m__name__\u001b[39m \u001b[38;5;241m==\u001b[39m \u001b[38;5;124m\"\u001b[39m\u001b[38;5;124m__main__\u001b[39m\u001b[38;5;124m\"\u001b[39m:\n\u001b[0;32m---> 17\u001b[0m     \u001b[43mmain\u001b[49m\u001b[43m(\u001b[49m\u001b[43m)\u001b[49m\n",
      "Cell \u001b[0;32mIn[69], line 7\u001b[0m, in \u001b[0;36mmain\u001b[0;34m()\u001b[0m\n\u001b[1;32m      5\u001b[0m \u001b[38;5;28mprint\u001b[39m(\u001b[38;5;124m\"\u001b[39m\u001b[38;5;124mEnter coordinates of first point (x1, y1):\u001b[39m\u001b[38;5;124m\"\u001b[39m)\n\u001b[1;32m      6\u001b[0m x1 \u001b[38;5;241m=\u001b[39m \u001b[38;5;28mfloat\u001b[39m(\u001b[38;5;28minput\u001b[39m(\u001b[38;5;124m\"\u001b[39m\u001b[38;5;124mx1: \u001b[39m\u001b[38;5;124m\"\u001b[39m))\n\u001b[0;32m----> 7\u001b[0m y1 \u001b[38;5;241m=\u001b[39m \u001b[38;5;28;43mfloat\u001b[39;49m\u001b[43m(\u001b[49m\u001b[38;5;28;43minput\u001b[39;49m\u001b[43m(\u001b[49m\u001b[38;5;124;43m\"\u001b[39;49m\u001b[38;5;124;43my1: \u001b[39;49m\u001b[38;5;124;43m\"\u001b[39;49m\u001b[43m)\u001b[49m\u001b[43m)\u001b[49m\n\u001b[1;32m      9\u001b[0m \u001b[38;5;28mprint\u001b[39m(\u001b[38;5;124m\"\u001b[39m\u001b[38;5;130;01m\\n\u001b[39;00m\u001b[38;5;124mEnter coordinates of second point (x2, y2):\u001b[39m\u001b[38;5;124m\"\u001b[39m)\n\u001b[1;32m     10\u001b[0m x2 \u001b[38;5;241m=\u001b[39m \u001b[38;5;28mfloat\u001b[39m(\u001b[38;5;28minput\u001b[39m(\u001b[38;5;124m\"\u001b[39m\u001b[38;5;124mx2: \u001b[39m\u001b[38;5;124m\"\u001b[39m))\n",
      "\u001b[0;31mValueError\u001b[0m: could not convert string to float: ''"
     ]
    }
   ],
   "source": [
    "def distance_between_points(x1, y1, x2, y2):\n",
    "    return ((x2 - x1)**2 + (y2 - y1)**2)**0.5\n",
    "\n",
    "def main():\n",
    "    print(\"Enter coordinates of first point (x1, y1):\")\n",
    "    x1 = float(input(\"x1: \"))\n",
    "    y1 = float(input(\"y1: \"))\n",
    "\n",
    "    print(\"\\nEnter coordinates of second point (x2, y2):\")\n",
    "    x2 = float(input(\"x2: \"))\n",
    "    y2 = float(input(\"y2: \"))\n",
    "\n",
    "    distance = distance_between_points(x1, y1, x2, y2)\n",
    "    print(\"\\nThe distance between the two points is:\", distance)\n",
    "\n",
    "if __name__ == \"__main__\":\n",
    "    main()\n"
   ]
  },
  {
   "cell_type": "code",
   "execution_count": null,
   "metadata": {},
   "outputs": [
    {
     "name": "stdout",
     "output_type": "stream",
     "text": [
      "area of triangle : 4.0\n"
     ]
    }
   ],
   "source": [
    "#Write a program to calculate area of a triangle.\n",
    "height=int(input(\"Enter height:\"))\n",
    "base=int(input(\"Enter base:\"))\n",
    "area_of_triangle=1/2*height*base\n",
    "print(\"area of triangle :\",area_of_triangle)"
   ]
  },
  {
   "cell_type": "code",
   "execution_count": null,
   "metadata": {},
   "outputs": [
    {
     "name": "stdout",
     "output_type": "stream",
     "text": [
      "2000 notes: 1\n",
      "500 notes: 1\n",
      "200 notes: 1\n",
      "100 notes: 1\n",
      "notes not found\n"
     ]
    }
   ],
   "source": [
    "#An ATM contains Indian Currency notes of 100,200,500 and 2000. Write a python program which calculates and displays the minimum number of notes required to be dispensed to meet the user’s requirement.\n",
    "amount=int(input(\"enter amount to withdraw:\"))\n",
    "count_2000=amount//2000\n",
    "amount=amount%2000\n",
    "\n",
    "count_500=amount//500\n",
    "amount=amount%500\n",
    "\n",
    "count_200=amount//200\n",
    "amount=amount%200\n",
    "\n",
    "count_100=amount//100\n",
    "amount=amount%100\n",
    "\n",
    "print(\"2000 notes:\",count_2000)\n",
    "print(\"500 notes:\",count_500)\n",
    "print(\"200 notes:\",count_200)\n",
    "print(\"100 notes:\",count_100)\n",
    "if amount!=0:\n",
    "    print(\"notes not found\")\n",
    "\n",
    "\n"
   ]
  },
  {
   "cell_type": "code",
   "execution_count": null,
   "metadata": {},
   "outputs": [
    {
     "name": "stdout",
     "output_type": "stream",
     "text": [
      "YES\n"
     ]
    }
   ],
   "source": [
    "#You are given a number A which contains only digits 0's and 1's. Your task is to make all digits same by just flipping one digit (i.e. 0 to 1 or 1 to 0 ) only. If it is possible to make all the digits same by justflipping one digit then print 'YES' else print 'NO'.\n",
    "\n",
    "def can_make_same(digits):\n",
    "    count_0 = digits.count('0')\n",
    "    count_1 = digits.count('1')\n",
    "\n",
    "    if count_0 == 1 or count_1 == 1:\n",
    "        return 'YES'\n",
    "    else:\n",
    "        return 'NO'\n",
    "\n",
    "# Example usage:\n",
    "number = input(\"Enter the number containing only 0s and 1s: \")\n",
    "print(can_make_same(number))\n"
   ]
  },
  {
   "cell_type": "code",
   "execution_count": null,
   "metadata": {},
   "outputs": [
    {
     "name": "stdout",
     "output_type": "stream",
     "text": [
      "not a leap year\n"
     ]
    }
   ],
   "source": [
    "#Write a program to accept an year as input from the user and check if the given year is a leap year or not.\n",
    "year=int(input(\"enter the year:\"))\n",
    "if year%400==0:\n",
    "    print(\"leap year\")\n",
    "elif year%100==0:\n",
    "    print(\"not a leap year\")\n",
    "elif year%4==0:\n",
    "    print(\"leap year\")\n",
    "else:\n",
    "    print(\"not leap year\")"
   ]
  },
  {
   "cell_type": "code",
   "execution_count": null,
   "metadata": {},
   "outputs": [
    {
     "name": "stdout",
     "output_type": "stream",
     "text": [
      "prime\n"
     ]
    }
   ],
   "source": [
    "#check prime number\n",
    "num=int(input(\"enter number\"))\n",
    "for i in range(2,num):\n",
    "    if num%i==0:\n",
    "        print(\"not prime\")\n",
    "        break\n",
    "else:\n",
    "    print(\"prime\")\n",
    "    "
   ]
  },
  {
   "cell_type": "code",
   "execution_count": null,
   "metadata": {},
   "outputs": [
    {
     "name": "stdout",
     "output_type": "stream",
     "text": [
      "invalid marks\n",
      "Fail\n"
     ]
    }
   ],
   "source": [
    "#Write a program that accepts % of marks from a user and displays grades as per the following rule.\n",
    "\n",
    "# a. marks>=90 grade is A\n",
    "# b. marks >=80 grade is B\n",
    "# c. marks>=70 grade is C\n",
    "# d. marks>=60 grade is D\n",
    "# e. others Fail\"\n",
    "marks=int(input(\"Enter the marks:\"))\n",
    "if marks>100:\n",
    "    print(\"invalid marks\")\n",
    "marks=int(input(\"Enter the marks:\"))\n",
    "\n",
    "if marks>=90:\n",
    "    print(\"grade:'A'\")\n",
    "elif marks>=80:\n",
    "    print(\"grade:'B\")\n",
    "elif marks>=70:\n",
    "    print(\"grade:'C\")\n",
    "elif marks>=60:\n",
    "    print(\"grade:'D\")\n",
    "else:\n",
    "    print(\"Fail\")\n",
    "    "
   ]
  },
  {
   "cell_type": "code",
   "execution_count": null,
   "metadata": {},
   "outputs": [
    {
     "name": "stdout",
     "output_type": "stream",
     "text": [
      "4\n",
      "[33, 12, 23, 56, 67, 24, 99]\n"
     ]
    }
   ],
   "source": [
    "# Write the code to perform following operations on the list\n",
    "# L1=[12,23,23,56,67,24]\n",
    "# a. find number of elements in the list\n",
    "# b. remove 3rd element\n",
    "# c. add 33 at index position 0\n",
    "# d. add 99 at the end of the list\n",
    "# e. search for `67' in the list and if it exists print its index position.\n",
    "\n",
    "L1=[12,23,23,56,67,24]\n",
    "len(L1)\n",
    "L1.pop(2)\n",
    "L1.insert(0,33)\n",
    "L1.append(99)\n",
    "if 67 in L1:\n",
    "    index_67=L1.index(67)\n",
    "    print(index_67)\n",
    "else:\n",
    "    (\"68 not found\")\n",
    "print(L1)"
   ]
  },
  {
   "cell_type": "code",
   "execution_count": null,
   "metadata": {},
   "outputs": [],
   "source": [
    "# You are provided with a list of grocery items purchased by a\n",
    "# customer. As shown below. Write python code to print the name of\n",
    "# the item and its quantity (occurrences in the list).\n",
    "# L=[“pen”,“ball”,“eraser”,“pen”,“band”,“pen”,“Pencil”,“ball”]\n",
    "# Which item is the most occurring item from the list?\"\n",
    "\n",
    "L = [\"pen\", \"ball\", \"eraser\", \"pen\", \"band\", \"pen\", \"Pencil\", \"ball\"]\n"
   ]
  },
  {
   "cell_type": "code",
   "execution_count": null,
   "metadata": {},
   "outputs": [
    {
     "name": "stdout",
     "output_type": "stream",
     "text": [
      "sum: 12\n"
     ]
    }
   ],
   "source": [
    "def calculate_sum(*maaz):\n",
    "    return sum(maaz)\n",
    "result=calculate_sum(3,4,5)\n",
    "print(\"sum:\",result)"
   ]
  },
  {
   "cell_type": "code",
   "execution_count": null,
   "metadata": {},
   "outputs": [
    {
     "name": "stdout",
     "output_type": "stream",
     "text": [
      "9.0\n"
     ]
    }
   ],
   "source": [
    "def fruit(*fruits,discount_price=0.1):\n",
    "    total=sum(fruits)-discount_price*sum(fruits)\n",
    "    return total\n",
    "fruits=fruit(2,5,3)\n",
    "print(fruits)"
   ]
  },
  {
   "cell_type": "code",
   "execution_count": null,
   "metadata": {},
   "outputs": [
    {
     "name": "stdout",
     "output_type": "stream",
     "text": [
      "[('item1', '17.20'), ('item2', '15.10'), ('item3', '24.5')]\n"
     ]
    }
   ],
   "source": [
    "# You are provided with following data consisting of grocery items and\n",
    "# their cost.\n",
    "# price = [('item1', '17.20'), ('item2', '15.10'), ('item3', '24.5')]\n",
    "# sort the above data on the basis of price and display it in order.\n",
    "# Which item is the second costliest in the list.\n",
    "\n",
    "price = [('item1', '17.20'), ('item2', '15.10'), ('item3', '24.5')]\n",
    "price.sort()\n",
    "print(price)\n"
   ]
  },
  {
   "cell_type": "code",
   "execution_count": null,
   "metadata": {},
   "outputs": [
    {
     "name": "stdout",
     "output_type": "stream",
     "text": [
      "0\n",
      "1\n",
      "2\n",
      "3\n",
      "4\n",
      "5\n"
     ]
    }
   ],
   "source": [
    "def gen_numbers(n):\n",
    "    for i in range(n):\n",
    "        yield i\n",
    "for num in gen_numbers(6):\n",
    "    print(num)\n",
    "    \n",
    "    "
   ]
  },
  {
   "cell_type": "code",
   "execution_count": null,
   "metadata": {},
   "outputs": [
    {
     "data": {
      "text/plain": [
       "[0, 1, 2, 4, 8, 16, 32, 64, 128, 256]"
      ]
     },
     "execution_count": 183,
     "metadata": {},
     "output_type": "execute_result"
    }
   ],
   "source": [
    "def fib_gen(n):\n",
    "    result=[]\n",
    "    a=0\n",
    "    b=1\n",
    "    for _ in range(n):\n",
    "        result.append(a)\n",
    "        a=b\n",
    "        b=a+b\n",
    "    return result\n",
    "fib_gen(10)"
   ]
  },
  {
   "cell_type": "code",
   "execution_count": null,
   "metadata": {},
   "outputs": [
    {
     "name": "stdout",
     "output_type": "stream",
     "text": [
      "[0, 1, 2, 4, 8, 16, 32, 64, 128, 256]\n"
     ]
    }
   ],
   "source": [
    "def fib_gen(n):\n",
    "    a=0\n",
    "    b=1\n",
    "    count=0\n",
    "    while count<n:\n",
    "        yield a\n",
    "        a=b\n",
    "        b=a+b\n",
    "        count+=1\n",
    "fib_seq=list(fib_gen(10))\n",
    "print(fib_seq)"
   ]
  },
  {
   "cell_type": "code",
   "execution_count": null,
   "metadata": {},
   "outputs": [],
   "source": []
  },
  {
   "cell_type": "code",
   "execution_count": null,
   "metadata": {},
   "outputs": [
    {
     "name": "stdout",
     "output_type": "stream",
     "text": [
      "[0, 1, 1, 2, 3, 5, 8, 13, 21, 34]\n"
     ]
    }
   ],
   "source": [
    "def fibonacci(n):\n",
    "    fib_series = [0, 1]\n",
    "    while len(fib_series) < n:\n",
    "        next_term = fib_series[-1] + fib_series[-2]\n",
    "        fib_series.append(next_term)\n",
    "    return fib_series\n",
    "\n",
    "# num_terms = 10\n",
    "fib_series = fibonacci(10)\n",
    "# print(\"Fibonacci series up to\", num_terms, \"terms:\")\n",
    "print(fib_series)\n"
   ]
  },
  {
   "cell_type": "code",
   "execution_count": null,
   "metadata": {},
   "outputs": [
    {
     "name": "stdout",
     "output_type": "stream",
     "text": [
      "[0, 1, 1, 2, 3, 5, 8, 13, 21, 34]\n"
     ]
    }
   ],
   "source": [
    "def fib(n):\n",
    "    fib_series(0,1)\n",
    "    while len(fib_series)<n:\n",
    "        next_term=fib_series(-1)+fib_series(-2)\n",
    "        fib_series.append(next_term)\n",
    "    return fib_series\n",
    "fib_series=fibonacci(10)\n",
    "print(fib_series)"
   ]
  },
  {
   "cell_type": "code",
   "execution_count": null,
   "metadata": {},
   "outputs": [
    {
     "name": "stdout",
     "output_type": "stream",
     "text": [
      "Factorial of 2 is: 2\n"
     ]
    }
   ],
   "source": [
    "from functools import reduce\n",
    "\n",
    "# Define a lambda fu22nction to calculate the factorial\n",
    "factorial = lambda n: reduce(lambda x, y: x * y, range(1, n + 1))\n",
    "\n",
    "# Input number for which factorial needs to be calculated\n",
    "num = int(input(\"Enter a number: \"))\n",
    "\n",
    "# Calculate and print the factorial\n",
    "print(\"Factorial of\", num, \"is:\", factorial(num))\n",
    "\n"
   ]
  },
  {
   "cell_type": "code",
   "execution_count": null,
   "metadata": {},
   "outputs": [
    {
     "name": "stdout",
     "output_type": "stream",
     "text": [
      "Factorial of 0 is: 1\n"
     ]
    }
   ],
   "source": [
    "def factorial(n):\n",
    "    if n < 0:\n",
    "        return \"Factorial is not defined for negative numbers\"\n",
    "    elif n == 0:\n",
    "        return 1\n",
    "    else:\n",
    "        result = 1\n",
    "        for i in range(1, n + 1):\n",
    "            result *= i\n",
    "        return result\n",
    "\n",
    "# Input number for which factorial needs to be calculated\n",
    "num = int(input(\"Enter a number: \"))\n",
    "\n",
    "# Calculate and print the factorial\n",
    "print(\"Factorial of\", num, \"is:\", factorial(num))\n"
   ]
  },
  {
   "cell_type": "code",
   "execution_count": null,
   "metadata": {},
   "outputs": [
    {
     "name": "stdout",
     "output_type": "stream",
     "text": [
      "facorial of 4 is: 24\n"
     ]
    }
   ],
   "source": [
    "def factorial(n):\n",
    "    if n<0:\n",
    "        return \"factorial is defined for negative numbers\"\n",
    "    elif n==0:\n",
    "        return 1\n",
    "    else:\n",
    "        result=1\n",
    "        for i in range(1,n+1):\n",
    "             result *= i\n",
    "        return result\n",
    "num=int(input(\"Enter thr number: \"))       \n",
    "print(\"facorial of\", num ,\"is:\",factorial(num))"
   ]
  },
  {
   "cell_type": "code",
   "execution_count": null,
   "metadata": {},
   "outputs": [
    {
     "data": {
      "text/plain": [
       "('area of circle=', 314.0)"
      ]
     },
     "execution_count": 8,
     "metadata": {},
     "output_type": "execute_result"
    }
   ],
   "source": [
    "def calculate_area(r):\n",
    "    area=3.14*r**2\n",
    "    return \"area of circle=\",area\n",
    "calculate_area(10)\n",
    "    "
   ]
  },
  {
   "cell_type": "code",
   "execution_count": null,
   "metadata": {},
   "outputs": [
    {
     "data": {
      "text/plain": [
       "19"
      ]
     },
     "execution_count": 11,
     "metadata": {},
     "output_type": "execute_result"
    }
   ],
   "source": [
    "my_list =[3,4,5,3,2,2]\n",
    "sum(my_list)"
   ]
  },
  {
   "cell_type": "code",
   "execution_count": 84,
   "metadata": {},
   "outputs": [
    {
     "name": "stdout",
     "output_type": "stream",
     "text": [
      "sum of the numbers: 15\n"
     ]
    }
   ],
   "source": [
    "def calculate_sum(numbers):\n",
    "    \"\"\"functon to calculate sum of numbers\"\"\"\n",
    "    total=0\n",
    "    for num in numbers:\n",
    "        total+=num\n",
    "    return total\n",
    "num_list=(1,2,3,4,5)\n",
    "print(\"sum of the numbers:\",calculate_sum(num_list))"
   ]
  },
  {
   "cell_type": "code",
   "execution_count": 86,
   "metadata": {},
   "outputs": [
    {
     "name": "stdout",
     "output_type": "stream",
     "text": [
      "sum of the numbers: 10\n"
     ]
    }
   ],
   "source": [
    "def add_numbers(numbers):\n",
    "    total=0\n",
    "    for num in numbers:\n",
    "        total+=num\n",
    "    return total\n",
    "num_list=(2,3,5)\n",
    "print(\"sum of the numbers:\",add_numbers(num_list))"
   ]
  },
  {
   "cell_type": "code",
   "execution_count": 91,
   "metadata": {},
   "outputs": [
    {
     "name": "stdout",
     "output_type": "stream",
     "text": [
      "square of: 1 is 1\n",
      "square of: 2 is 4\n",
      "square of: 3 is 9\n",
      "square of: 4 is 16\n",
      "square of: 5 is 25\n"
     ]
    }
   ],
   "source": [
    "square=lambda x: x**2\n",
    "for num in range(1,6):\n",
    "    print(\"square of:\",num,\"is\",square(num))"
   ]
  },
  {
   "cell_type": "code",
   "execution_count": 100,
   "metadata": {},
   "outputs": [
    {
     "name": "stdout",
     "output_type": "stream",
     "text": [
      "23\n",
      "78\n"
     ]
    }
   ],
   "source": [
    "p1=78\n",
    "def My_func():\n",
    "    p1=23\n",
    "    print(p1)\n",
    "My_func()\n",
    "print(p1)\n",
    "    "
   ]
  },
  {
   "cell_type": "code",
   "execution_count": 105,
   "metadata": {},
   "outputs": [
    {
     "name": "stdout",
     "output_type": "stream",
     "text": [
      "inside func : 23\n",
      "34\n"
     ]
    },
    {
     "ename": "NameError",
     "evalue": "name 'local_var' is not defined",
     "output_type": "error",
     "traceback": [
      "\u001b[0;31m---------------------------------------------------------------------------\u001b[0m",
      "\u001b[0;31mNameError\u001b[0m                                 Traceback (most recent call last)",
      "Cell \u001b[0;32mIn[105], line 7\u001b[0m\n\u001b[1;32m      5\u001b[0m     \u001b[38;5;28mprint\u001b[39m(local_var)\n\u001b[1;32m      6\u001b[0m My_func()\n\u001b[0;32m----> 7\u001b[0m \u001b[38;5;28mprint\u001b[39m(\u001b[38;5;124m\"\u001b[39m\u001b[38;5;124moutside the function\u001b[39m\u001b[38;5;124m\"\u001b[39m,\u001b[43mlocal_var\u001b[49m)\n",
      "\u001b[0;31mNameError\u001b[0m: name 'local_var' is not defined"
     ]
    }
   ],
   "source": [
    "global_var=23\n",
    "def My_func():\n",
    "    local_var=34\n",
    "    print(\"inside func :\",global_var)\n",
    "    print(local_var)\n",
    "My_func()\n",
    "print(\"outside the function\",local_var)"
   ]
  },
  {
   "cell_type": "code",
   "execution_count": 107,
   "metadata": {},
   "outputs": [
    {
     "name": "stdout",
     "output_type": "stream",
     "text": [
      "inside the func:\n",
      "global_var : 15\n",
      "local_var: 19\n",
      "outside the func : 15\n"
     ]
    }
   ],
   "source": [
    "global_var=10\n",
    "def my_func():\n",
    "    global global_var\n",
    "    global_var+=5\n",
    "    local_var=19\n",
    "    print(\"inside the func:\")\n",
    "    print(\"global_var :\",global_var)\n",
    "    print(\"local_var:\",local_var)\n",
    "my_func()\n",
    "print(\"outside the func :\",global_var)"
   ]
  },
  {
   "cell_type": "code",
   "execution_count": 113,
   "metadata": {},
   "outputs": [
    {
     "name": "stdout",
     "output_type": "stream",
     "text": [
      "second element: 3\n",
      "an error acccured\n"
     ]
    }
   ],
   "source": [
    "a=[12,3,2]\n",
    "try:\n",
    "    print(\"second element:\",(a[1]))\n",
    "    print(\"fourth element:\",(a[3]))\n",
    "except:\n",
    "    print(\"an error acccured\")\n",
    "    "
   ]
  },
  {
   "cell_type": "code",
   "execution_count": 121,
   "metadata": {},
   "outputs": [
    {
     "name": "stdout",
     "output_type": "stream",
     "text": [
      "error: the file does not exist\n"
     ]
    }
   ],
   "source": [
    "try: \n",
    "    with open(\"non_existent_file.txt\"):\n",
    "        pass\n",
    "except FileNotFoundError:\n",
    "    print(\"error: the file does not exist\")"
   ]
  },
  {
   "cell_type": "code",
   "execution_count": 130,
   "metadata": {},
   "outputs": [
    {
     "name": "stdout",
     "output_type": "stream",
     "text": [
      "result : 1.0\n",
      "end of the program\n"
     ]
    }
   ],
   "source": [
    "try:\n",
    "    num1=int(input(\"enter 1st num\"))\n",
    "    num2=int(input(\"enter 2nd num\"))\n",
    "    result=num1/num2\n",
    "except ValueError:\n",
    "    print(\"please enter a valid integer\")\n",
    "except ZeroDivisionError:\n",
    "    print(\"can not divide by zero\")\n",
    "else:\n",
    "    print(\"result :\",result)\n",
    "finally:\n",
    "    print(\"end of the program\")"
   ]
  },
  {
   "cell_type": "code",
   "execution_count": 10,
   "metadata": {},
   "outputs": [
    {
     "ename": "NameError",
     "evalue": "name 'NegativeValueError' is not defined",
     "output_type": "error",
     "traceback": [
      "\u001b[0;31m---------------------------------------------------------------------------\u001b[0m",
      "\u001b[0;31mNameError\u001b[0m                                 Traceback (most recent call last)",
      "Cell \u001b[0;32mIn[10], line 6\u001b[0m\n\u001b[1;32m      5\u001b[0m \u001b[38;5;28;01mtry\u001b[39;00m:\n\u001b[0;32m----> 6\u001b[0m    r\u001b[38;5;241m=\u001b[39m \u001b[43mfunc\u001b[49m\u001b[43m(\u001b[49m\u001b[38;5;241;43m-\u001b[39;49m\u001b[38;5;241;43m2\u001b[39;49m\u001b[43m)\u001b[49m\n\u001b[1;32m      7\u001b[0m \u001b[38;5;28;01mexcept\u001b[39;00m NegativeValueError \u001b[38;5;28;01mas\u001b[39;00m e:\n",
      "Cell \u001b[0;32mIn[10], line 3\u001b[0m, in \u001b[0;36mfunc\u001b[0;34m(n)\u001b[0m\n\u001b[1;32m      2\u001b[0m \u001b[38;5;28;01mif\u001b[39;00m n\u001b[38;5;241m<\u001b[39m\u001b[38;5;241m0\u001b[39m:\n\u001b[0;32m----> 3\u001b[0m     \u001b[38;5;28;01mraise\u001b[39;00m \u001b[43mNegativeValueError\u001b[49m(\u001b[38;5;124m\"\u001b[39m\u001b[38;5;124mcannot\u001b[39m\u001b[38;5;124m\"\u001b[39m)\n\u001b[1;32m      4\u001b[0m \u001b[38;5;28;01mreturn\u001b[39;00m n\n",
      "\u001b[0;31mNameError\u001b[0m: name 'NegativeValueError' is not defined",
      "\nDuring handling of the above exception, another exception occurred:\n",
      "\u001b[0;31mNameError\u001b[0m                                 Traceback (most recent call last)",
      "Cell \u001b[0;32mIn[10], line 7\u001b[0m\n\u001b[1;32m      5\u001b[0m \u001b[38;5;28;01mtry\u001b[39;00m:\n\u001b[1;32m      6\u001b[0m    r\u001b[38;5;241m=\u001b[39m func(\u001b[38;5;241m-\u001b[39m\u001b[38;5;241m2\u001b[39m)\n\u001b[0;32m----> 7\u001b[0m \u001b[38;5;28;01mexcept\u001b[39;00m \u001b[43mNegativeValueError\u001b[49m \u001b[38;5;28;01mas\u001b[39;00m e:\n\u001b[1;32m      8\u001b[0m     \u001b[38;5;28mprint\u001b[39m(\u001b[38;5;124m\"\u001b[39m\u001b[38;5;124merror:\u001b[39m\u001b[38;5;124m\"\u001b[39m,e)\n",
      "\u001b[0;31mNameError\u001b[0m: name 'NegativeValueError' is not defined"
     ]
    }
   ],
   "source": [
    "def func(n):\n",
    "    if n<0:\n",
    "        raise NegativeValueError(\"cannot\")\n",
    "    return n\n",
    "try:\n",
    "   r= func(-2)\n",
    "except NegativeValueError as e:\n",
    "    print(\"error:\",e)\n",
    "        \n",
    "        \n",
    "    \n",
    "    "
   ]
  },
  {
   "cell_type": "code",
   "execution_count": 17,
   "metadata": {},
   "outputs": [
    {
     "name": "stdout",
     "output_type": "stream",
     "text": [
      "quetiont: 5.0\n",
      "can't divide by zero\n",
      "quetiont: None\n"
     ]
    }
   ],
   "source": [
    "def calculate_quetiont(numerator,denominator):\n",
    "    try:\n",
    "        quetiont=numerator/denominator\n",
    "        return quetiont\n",
    "    except ZeroDivisionError:\n",
    "        print(\"can't divide by zero\")\n",
    "        return None\n",
    "print(\"quetiont:\",calculate_quetiont(10,2))\n",
    "print(\"quetiont:\",calculate_quetiont(5,0))\n",
    "    "
   ]
  },
  {
   "cell_type": "code",
   "execution_count": 33,
   "metadata": {},
   "outputs": [
    {
     "data": {
      "text/plain": [
       "[0, 1, 1, 2, 3, 5, 8, 13, 21, 34]"
      ]
     },
     "execution_count": 33,
     "metadata": {},
     "output_type": "execute_result"
    }
   ],
   "source": [
    "def fib(n):\n",
    "    result=[]\n",
    "    \n",
    "    a=0\n",
    "    b=1\n",
    "    for i in range(0,n):\n",
    "        \n",
    "        result.append(a)\n",
    "        a,b=b,a+b\n",
    "        \n",
    "    return result\n",
    "fib(10)"
   ]
  },
  {
   "cell_type": "code",
   "execution_count": 414,
   "metadata": {},
   "outputs": [
    {
     "name": "stdout",
     "output_type": "stream",
     "text": [
      "First 5 terms of Fibonacci sequence: [0, 1, 1, 2, 3]\n"
     ]
    }
   ],
   "source": [
    "#recursive funtion\n",
    "def fibonacci_recursive(n):\n",
    "    if n <= 0:\n",
    "        return []\n",
    "    elif n == 1:\n",
    "        return [0]\n",
    "    elif n == 2:\n",
    "        return [0, 1]\n",
    "    else:\n",
    "        fib_sequence = fibonacci_recursive(n - 1)\n",
    "        fib_sequence.append(fib_sequence[-1] + fib_sequence[-2])\n",
    "        return fib_sequence\n",
    "\n",
    "# Example usage:\n",
    "n = 5\n",
    "fib_sequence = fibonacci_recursive(n)\n",
    "print(\"First\", n, \"terms of Fibonacci sequence:\", fib_sequence)\n"
   ]
  },
  {
   "cell_type": "code",
   "execution_count": 35,
   "metadata": {},
   "outputs": [
    {
     "name": "stdout",
     "output_type": "stream",
     "text": [
      "first 10 terms of fibonacci series : [0, 1, 1, 2, 3, 5, 8, 13, 21, 34]\n"
     ]
    }
   ],
   "source": [
    "def fib(n):\n",
    "    if n==0:\n",
    "        return []\n",
    "    elif n==1:\n",
    "        return [0]\n",
    "    elif n==2:\n",
    "        return [0,1]\n",
    "    else:\n",
    "        fib_seq=fib(n-1)\n",
    "        fib_seq.append(fib_seq[-1]+fib_seq[-2])\n",
    "        return fib_seq\n",
    "n=10\n",
    "fib_seq=fib(n)\n",
    "print(\"first\",n,\"terms of fibonacci series :\",fib_seq)\n",
    "    "
   ]
  },
  {
   "cell_type": "code",
   "execution_count": 36,
   "metadata": {},
   "outputs": [
    {
     "name": "stdout",
     "output_type": "stream",
     "text": [
      "Hello, Alice\n",
      "Hi, Bob\n"
     ]
    }
   ],
   "source": [
    "def greet_user(name, greeting=\"Hello\"):\n",
    "    print(greeting + \", \" + name)\n",
    "\n",
    "# Test the function\n",
    "greet_user(\"Alice\")  # Will print: Hello, Alice\n",
    "greet_user(\"Bob\", \"Hi\")  # Will print: Hi, Bob\n"
   ]
  },
  {
   "cell_type": "code",
   "execution_count": 45,
   "metadata": {},
   "outputs": [
    {
     "name": "stdout",
     "output_type": "stream",
     "text": [
      "hello,Alice\n",
      "hi,bob\n"
     ]
    }
   ],
   "source": [
    "def greet_user(name,greeting=\"hello\"):\n",
    "    print(greeting+\",\"+name)\n",
    "    #test the function\n",
    "greet_user(\"Alice\")\n",
    "greet_user(\"bob\",\"hi\")"
   ]
  },
  {
   "cell_type": "code",
   "execution_count": 55,
   "metadata": {},
   "outputs": [
    {
     "name": "stdout",
     "output_type": "stream",
     "text": [
      "str and int can be add\n"
     ]
    }
   ],
   "source": [
    "x=5\n",
    "y=\";\"\n",
    "try:\n",
    "    z=x+y\n",
    "    print(z)\n",
    "except TypeError:\n",
    "    print(\"str and int can be add\")\n",
    "    "
   ]
  },
  {
   "cell_type": "code",
   "execution_count": 57,
   "metadata": {},
   "outputs": [
    {
     "name": "stdout",
     "output_type": "stream",
     "text": [
      "12\n",
      "<function Example.add at 0x105341e50>\n"
     ]
    }
   ],
   "source": [
    "class Example:\n",
    "    def add(a,b):\n",
    "        return a+b\n",
    "print(Example.add(8,4))\n",
    "print(Example.add)"
   ]
  },
  {
   "cell_type": "code",
   "execution_count": 68,
   "metadata": {},
   "outputs": [
    {
     "name": "stdout",
     "output_type": "stream",
     "text": [
      "9\n",
      "6\n"
     ]
    }
   ],
   "source": [
    "class Example:\n",
    "    def __init__(self,a,b):\n",
    "        self.a=a\n",
    "        self.b=b\n",
    "    def add(self):\n",
    "        return self.a+self.b\n",
    "e=Example(6,3)\n",
    "print(e.add())\n",
    "print(e.a)\n",
    "    "
   ]
  },
  {
   "cell_type": "code",
   "execution_count": 93,
   "metadata": {},
   "outputs": [
    {
     "name": "stdout",
     "output_type": "stream",
     "text": [
      "7\n",
      "just for testing\n"
     ]
    }
   ],
   "source": [
    "class Example:\n",
    "    def __init__(self,a,b):\n",
    "        self.a=a\n",
    "        self.b=b\n",
    "    def add(self):\n",
    "        return self.a+self.b\n",
    "    def fun(self):\n",
    "        print(\"just for testing\")\n",
    "\n",
    "random=Example(3,4)\n",
    "print(random.add())\n",
    "random.fun()"
   ]
  },
  {
   "cell_type": "code",
   "execution_count": 91,
   "metadata": {},
   "outputs": [
    {
     "data": {
      "text/plain": [
       "9"
      ]
     },
     "execution_count": 91,
     "metadata": {},
     "output_type": "execute_result"
    }
   ],
   "source": [
    "class Analzer:\n",
    "    def __init__(self,s):\n",
    "        s=s.lower()\n",
    "        self.words=s.split()\n",
    "    def no_of_words(self):\n",
    "         return len(self.words)\n",
    "s=\"this is how our class Analyzer will work.Let's see\"\n",
    "analyzer=Analzer(s)\n",
    "analyzer.words\n",
    "analyzer.no_of_words()"
   ]
  },
  {
   "cell_type": "code",
   "execution_count": 104,
   "metadata": {},
   "outputs": [
    {
     "name": "stdout",
     "output_type": "stream",
     "text": [
      "hello my name is maaz and i am 19 years old\n",
      "my brach is ai & ml in B.tech\n"
     ]
    }
   ],
   "source": [
    "class Person:\n",
    "    def __init__(self,name,age,branch):\n",
    "        self.name=name\n",
    "        self.age=age\n",
    "        self.branch=branch\n",
    "    def info(self):\n",
    "        print(\"hello my name is {} and i am {} years old\".format(self.name,self.age))\n",
    "    def edu(self):\n",
    "        print(\"my brach is {} in B.tech\".format(self.branch))\n",
    "person1=Person(\"maaz\",19,\"ai & ml\")\n",
    "person1.info()\n",
    "person1.edu()"
   ]
  },
  {
   "cell_type": "code",
   "execution_count": 125,
   "metadata": {},
   "outputs": [
    {
     "name": "stdout",
     "output_type": "stream",
     "text": [
      "maruti-suzuki swift 1990 0\n"
     ]
    }
   ],
   "source": [
    "class Car:\n",
    "    def __init__(self,brand,model,year):\n",
    "        self.brand=brand\n",
    "        self.model=model\n",
    "        self.year=year\n",
    "        self.speed=0\n",
    "    def details(self):\n",
    "        print(f\"{self.brand} {self.model} {self.year} {self.speed}\")\n",
    "car1=Car(\"maruti-suzuki\",\"swift\",1990)\n",
    "\n",
    "car1.details()"
   ]
  },
  {
   "cell_type": "code",
   "execution_count": 117,
   "metadata": {},
   "outputs": [
    {
     "name": "stdout",
     "output_type": "stream",
     "text": [
      "counter without init method 10\n"
     ]
    }
   ],
   "source": [
    "# counter With out __init__\n",
    "class Counter:\n",
    "    def set_count(self,count):\n",
    "        self.count=count\n",
    "counter_without_init=Counter()\n",
    "counter_without_init.set_count(10)\n",
    "print(\"counter without init method\",counter_without_init.count)"
   ]
  },
  {
   "cell_type": "code",
   "execution_count": 129,
   "metadata": {},
   "outputs": [
    {
     "data": {
      "text/plain": [
       "10"
      ]
     },
     "execution_count": 129,
     "metadata": {},
     "output_type": "execute_result"
    }
   ],
   "source": [
    "class Counter:\n",
    "    def __init__(self,count):\n",
    "        self.count=count\n",
    "        \n",
    "count1=Counter(10)\n",
    "count1.count\n",
    "    "
   ]
  },
  {
   "cell_type": "code",
   "execution_count": 139,
   "metadata": {},
   "outputs": [
    {
     "name": "stdout",
     "output_type": "stream",
     "text": [
      "destroyed : maaz\n",
      "destroyed : lareb\n"
     ]
    }
   ],
   "source": [
    "class Myclass:\n",
    "    def __init__(self,name):\n",
    "        self.name=name\n",
    "    def create(self):\n",
    "        print(\"created :\",self.name)\n",
    "    def __del__(self):\n",
    "        print(\"destroyed :\",self.name)\n",
    "myclass1=Myclass(\"maaz\")\n",
    "myclass2=Myclass(\"lareb\")\n",
    "del myclass1\n",
    "del myclass2\n",
    "\n",
    "        "
   ]
  },
  {
   "cell_type": "code",
   "execution_count": 171,
   "metadata": {},
   "outputs": [
    {
     "ename": "AttributeError",
     "evalue": "'Example' object has no attribute '_Example__ab'",
     "output_type": "error",
     "traceback": [
      "\u001b[0;31m---------------------------------------------------------------------------\u001b[0m",
      "\u001b[0;31mAttributeError\u001b[0m                            Traceback (most recent call last)",
      "Cell \u001b[0;32mIn[171], line 9\u001b[0m\n\u001b[1;32m      7\u001b[0m         \u001b[38;5;28;01mreturn\u001b[39;00m \u001b[38;5;28mself\u001b[39m\u001b[38;5;241m.\u001b[39m__a\u001b[38;5;241m+\u001b[39m\u001b[38;5;28mself\u001b[39m\u001b[38;5;241m.\u001b[39m__ab\n\u001b[1;32m      8\u001b[0m e\u001b[38;5;241m=\u001b[39mExample(\u001b[38;5;241m4\u001b[39m,\u001b[38;5;241m6\u001b[39m)\n\u001b[0;32m----> 9\u001b[0m \u001b[43me\u001b[49m\u001b[38;5;241;43m.\u001b[39;49m\u001b[43madd\u001b[49m\u001b[43m(\u001b[49m\u001b[43m)\u001b[49m\n\u001b[1;32m     10\u001b[0m \u001b[38;5;28mprint\u001b[39m(e\u001b[38;5;241m.\u001b[39m__a)\n",
      "Cell \u001b[0;32mIn[171], line 7\u001b[0m, in \u001b[0;36mExample.add\u001b[0;34m(self)\u001b[0m\n\u001b[1;32m      6\u001b[0m \u001b[38;5;28;01mdef\u001b[39;00m \u001b[38;5;21madd\u001b[39m(\u001b[38;5;28mself\u001b[39m):\n\u001b[0;32m----> 7\u001b[0m     \u001b[38;5;28;01mreturn\u001b[39;00m \u001b[38;5;28mself\u001b[39m\u001b[38;5;241m.\u001b[39m__a\u001b[38;5;241m+\u001b[39m\u001b[38;5;28;43mself\u001b[39;49m\u001b[38;5;241;43m.\u001b[39;49m\u001b[43m__ab\u001b[49m\n",
      "\u001b[0;31mAttributeError\u001b[0m: 'Example' object has no attribute '_Example__ab'"
     ]
    }
   ],
   "source": [
    "#not protected\n",
    "class Example:\n",
    "    def __init__(self,a,b):\n",
    "        self.__a=a\n",
    "        self.__b=b\n",
    "    def add(self):\n",
    "        return self.__a+self.__ab\n",
    "e=Example(4,6)\n",
    "e.add()\n",
    "print(e.__a)"
   ]
  },
  {
   "cell_type": "code",
   "execution_count": 156,
   "metadata": {},
   "outputs": [
    {
     "name": "stdout",
     "output_type": "stream",
     "text": [
      "4\n"
     ]
    }
   ],
   "source": [
    "#protected\n",
    "class Example:\n",
    "    def __init__(self,a,b):\n",
    "        self._a=a\n",
    "        self.b=b\n",
    "    def add(self):\n",
    "        return self._a+self.b\n",
    "e=Example(4,6)\n",
    "e.add()\n",
    "print(e._a)"
   ]
  },
  {
   "cell_type": "code",
   "execution_count": 173,
   "metadata": {},
   "outputs": [
    {
     "ename": "AttributeError",
     "evalue": "'Example' object has no attribute '__a'",
     "output_type": "error",
     "traceback": [
      "\u001b[0;31m---------------------------------------------------------------------------\u001b[0m",
      "\u001b[0;31mAttributeError\u001b[0m                            Traceback (most recent call last)",
      "Cell \u001b[0;32mIn[173], line 12\u001b[0m\n\u001b[1;32m      9\u001b[0m e\u001b[38;5;241m.\u001b[39madd()\n\u001b[1;32m     10\u001b[0m \u001b[38;5;66;03m# print(e.a)\u001b[39;00m\n\u001b[1;32m     11\u001b[0m \u001b[38;5;66;03m# print(e.b)\u001b[39;00m\n\u001b[0;32m---> 12\u001b[0m \u001b[38;5;28mprint\u001b[39m(\u001b[38;5;124mf\u001b[39m\u001b[38;5;124m\"\u001b[39m\u001b[38;5;132;01m{\u001b[39;00me\u001b[38;5;241m.\u001b[39m__a\u001b[38;5;132;01m}\u001b[39;00m\u001b[38;5;124m\"\u001b[39m)\n",
      "\u001b[0;31mAttributeError\u001b[0m: 'Example' object has no attribute '__a'"
     ]
    }
   ],
   "source": [
    "#private\n",
    "class Example:\n",
    "    def __init__(self,a,b):\n",
    "        self.__a=a\n",
    "        self.__b=b\n",
    "    def add(self):\n",
    "        return self.__a+self.__b\n",
    "e=Example(5,6)\n",
    "e.add()\n",
    "# print(e.a)\n",
    "# print(e.b)\n",
    "print(f\"{e.__a}\")\n"
   ]
  },
  {
   "cell_type": "code",
   "execution_count": 168,
   "metadata": {},
   "outputs": [
    {
     "ename": "AttributeError",
     "evalue": "'Example' object has no attribute '__a'",
     "output_type": "error",
     "traceback": [
      "\u001b[0;31m---------------------------------------------------------------------------\u001b[0m",
      "\u001b[0;31mAttributeError\u001b[0m                            Traceback (most recent call last)",
      "Cell \u001b[0;32mIn[168], line 13\u001b[0m\n\u001b[1;32m      9\u001b[0m e \u001b[38;5;241m=\u001b[39m Example(\u001b[38;5;241m5\u001b[39m, \u001b[38;5;241m6\u001b[39m)\n\u001b[1;32m     10\u001b[0m \u001b[38;5;66;03m# print(e.add())  # This will print: 11\u001b[39;00m\n\u001b[1;32m     11\u001b[0m \n\u001b[1;32m     12\u001b[0m \u001b[38;5;66;03m# Attempting to access private attributes directly will raise AttributeError\u001b[39;00m\n\u001b[0;32m---> 13\u001b[0m \u001b[38;5;28mprint\u001b[39m(\u001b[43me\u001b[49m\u001b[38;5;241;43m.\u001b[39;49m\u001b[43m__a\u001b[49m)  \u001b[38;5;66;03m# This will raise an AttributeError\u001b[39;00m\n\u001b[1;32m     14\u001b[0m \u001b[38;5;28mprint\u001b[39m(e\u001b[38;5;241m.\u001b[39m__b)  \u001b[38;5;66;03m# This will raise an AttributeError\u001b[39;00m\n",
      "\u001b[0;31mAttributeError\u001b[0m: 'Example' object has no attribute '__a'"
     ]
    }
   ],
   "source": [
    "class Example:\n",
    "    def __init__(self, a, b):\n",
    "        self.__a = a\n",
    "        self.__b = b\n",
    "    \n",
    "    def add(self):\n",
    "        return self.__a + self.__b\n",
    "\n",
    "e = Example(5, 6)\n",
    "# print(e.add())  # This will print: 11\n",
    "\n",
    "# Attempting to access private attributes directly will raise AttributeError\n",
    "# print(e.__a)  # This will raise an AttributeError\n",
    "# print(e.__b)  # This will raise an AttributeError\n"
   ]
  },
  {
   "cell_type": "code",
   "execution_count": 205,
   "metadata": {},
   "outputs": [
    {
     "name": "stdout",
     "output_type": "stream",
     "text": [
      "account balance 7000\n"
     ]
    }
   ],
   "source": [
    "class Bankaccount:\n",
    "    def __init__(self,account_no,balance=0):\n",
    "        self.account_no=account_no\n",
    "        self.balance=balance\n",
    "    def deposit(self,ammount):\n",
    "        if ammount>0:\n",
    "            self.balance+=ammount\n",
    "    def withdrawl(self,ammount):\n",
    "        if 0<ammount<=self.balance:\n",
    "            self.balance-=ammount\n",
    "    def get_balance(self):\n",
    "        return self.balance\n",
    "    def get_account_no(self):\n",
    "        return self.account_no\n",
    "e=Bankaccount(73247743,9000)\n",
    "e.account_no\n",
    "e.deposit(5000)\n",
    "e.withdrawl(7000)\n",
    "print(\"account balance\",e.get_balance())"
   ]
  },
  {
   "cell_type": "code",
   "execution_count": 210,
   "metadata": {},
   "outputs": [
    {
     "name": "stdout",
     "output_type": "stream",
     "text": [
      "Dog says : woof !\n",
      "Cat says : meow !\n"
     ]
    }
   ],
   "source": [
    "class Animal:\n",
    "    def speak(self):\n",
    "        pass\n",
    "class Cat(Animal):\n",
    "    def speak(self):\n",
    "        return \"meow !\"\n",
    "class Dog(Animal):\n",
    "    def speak(self):\n",
    "        return \"woof !\"\n",
    "dog=Dog()\n",
    "cat=Cat()\n",
    "print(\"Dog says :\",dog.speak())\n",
    "print(\"Cat says :\",cat.speak())"
   ]
  },
  {
   "cell_type": "code",
   "execution_count": 224,
   "metadata": {},
   "outputs": [
    {
     "name": "stdout",
     "output_type": "stream",
     "text": [
      "person name :  maaz\n",
      "person age :  19\n",
      "person adddres :  sahanpur\n",
      "\n",
      "Modified details\n",
      "person name :  lareb\n",
      "person age :  18\n",
      "person adddres :  nurpur\n"
     ]
    }
   ],
   "source": [
    "class Person:\n",
    "    def __init__(self,name,age,add):\n",
    "        self.__name=name\n",
    "        self.__age=age\n",
    "        self.__add=add\n",
    "        \n",
    "    def get_name(self):\n",
    "        return self.__name\n",
    "    def set_name(self,name):\n",
    "        self.__name=name\n",
    "    \n",
    "    def get_age(self):\n",
    "        return self.__age\n",
    "    def set_age(self,age):\n",
    "        self.__age=age\n",
    "    \n",
    "    def get_add(self):\n",
    "        return self.__add\n",
    "    def set_add(self,add):\n",
    "        self.__add=add\n",
    "person=Person(\"maaz\",19,\"sahanpur\")\n",
    "\n",
    "print(\"person name : \",person.get_name())\n",
    "print(\"person age : \",person.get_age())\n",
    "print(\"person adddres : \",person.get_add())\n",
    "\n",
    "person.set_name(\"lareb\")\n",
    "person.set_age(18)\n",
    "person.set_add(\"nurpur\")\n",
    "print(\"\\nModified details\")\n",
    "print(\"person name : \",person.get_name())\n",
    "print(\"person age : \",person.get_age())\n",
    "print(\"person adddres : \",person.get_add())\n"
   ]
  },
  {
   "cell_type": "code",
   "execution_count": 251,
   "metadata": {},
   "outputs": [
    {
     "data": {
      "text/plain": [
       "12"
      ]
     },
     "execution_count": 251,
     "metadata": {},
     "output_type": "execute_result"
    }
   ],
   "source": [
    "class Shape:\n",
    "    def area(self):\n",
    "        pass\n",
    "class Circle(Shape):\n",
    "    def __init__(self,redius):\n",
    "        self.redius=redius\n",
    "    def area(self):\n",
    "        return 3.14*self.redius**2\n",
    "    \n",
    "class Ractangle(Shape):\n",
    "    def __init__(self,hieght,width):\n",
    "        self.hieght=hieght\n",
    "        self.width=width\n",
    "    def area(self):\n",
    "        return self.hieght*self.width\n",
    "circle_area=Circle(10)\n",
    "circle_area.area()\n",
    "ractangle_area=Ractangle(3,4)\n",
    "ractangle_area.area()"
   ]
  },
  {
   "cell_type": "code",
   "execution_count": 249,
   "metadata": {},
   "outputs": [
    {
     "data": {
      "text/plain": [
       "12"
      ]
     },
     "execution_count": 249,
     "metadata": {},
     "output_type": "execute_result"
    }
   ],
   "source": [
    "class Ractangle(Shape):\n",
    "    def __init__(self,hieght,width):\n",
    "        self.hieght=hieght\n",
    "        self.width=width\n",
    "    def area_of_ractangle(self):\n",
    "        return self.hieght*self.width\n",
    "ractangle_area=Ractangle(3,4)\n",
    "ractangle_area.area_of_ractangle()"
   ]
  },
  {
   "cell_type": "code",
   "execution_count": 255,
   "metadata": {},
   "outputs": [
    {
     "data": {
      "text/plain": [
       "'Meow!'"
      ]
     },
     "execution_count": 255,
     "metadata": {},
     "output_type": "execute_result"
    }
   ],
   "source": [
    "class Animal:\n",
    "    def speak(self):\n",
    "        pass\n",
    "class Dog(Animal):\n",
    "    def speak(self):\n",
    "        return \"woof !\"\n",
    "class Cat(Animal):\n",
    "    def speak(self):\n",
    "        return \"Meow!\"\n",
    "dog=Dog()\n",
    "cat=Cat()\n",
    "dog.speak()\n",
    "cat.speak()\n",
    "\n"
   ]
  },
  {
   "cell_type": "code",
   "execution_count": 267,
   "metadata": {},
   "outputs": [
    {
     "ename": "TypeError",
     "evalue": "'NoneType' object is not callable",
     "output_type": "error",
     "traceback": [
      "\u001b[0;31m---------------------------------------------------------------------------\u001b[0m",
      "\u001b[0;31mTypeError\u001b[0m                                 Traceback (most recent call last)",
      "Cell \u001b[0;32mIn[267], line 10\u001b[0m\n\u001b[1;32m      7\u001b[0m \u001b[38;5;129m@my_decorater\u001b[39m\n\u001b[1;32m      8\u001b[0m \u001b[38;5;28;01mdef\u001b[39;00m \u001b[38;5;21msay_hello\u001b[39m():\n\u001b[1;32m      9\u001b[0m     \u001b[38;5;28mprint\u001b[39m(\u001b[38;5;124m\"\u001b[39m\u001b[38;5;124mhello\u001b[39m\u001b[38;5;124m\"\u001b[39m)\n\u001b[0;32m---> 10\u001b[0m \u001b[43msay_hello\u001b[49m\u001b[43m(\u001b[49m\u001b[43m)\u001b[49m\n",
      "\u001b[0;31mTypeError\u001b[0m: 'NoneType' object is not callable"
     ]
    }
   ],
   "source": [
    "def my_decorater(func):\n",
    "    def my_wrapper():\n",
    "        print(\"somthing is hapning before the function called\")\n",
    "        func()\n",
    "        print(\"somthing is hapning after the function called\")\n",
    "        return my_wrapper\n",
    "@my_decorater\n",
    "def say_hello():\n",
    "    print(\"hello\")\n",
    "say_hello()\n",
    "        "
   ]
  },
  {
   "cell_type": "code",
   "execution_count": 275,
   "metadata": {},
   "outputs": [
    {
     "name": "stdout",
     "output_type": "stream",
     "text": [
      "this in make by carbon fiber and it's model is toyota and it is 1 year old\n",
      "a car is a vehicle\n"
     ]
    }
   ],
   "source": [
    "class Car:\n",
    "    def __init__(self,make,model,year):\n",
    "        self.make=make\n",
    "        self.model=model\n",
    "        self.year=year\n",
    "    def details(self):\n",
    "        print(\"this in make by {} and it's model is {} and it is {} year old\".format(self.make,self.model,self.year))\n",
    "    @staticmethod\n",
    "    def my_static():\n",
    "        print(\"a car is a vehicle\")\n",
    "car=Car(\"carbon fiber\",\"toyota\",1)\n",
    "car.details()\n",
    "car.my_static()\n",
    "        "
   ]
  },
  {
   "cell_type": "code",
   "execution_count": 276,
   "metadata": {},
   "outputs": [
    {
     "name": "stdout",
     "output_type": "stream",
     "text": [
      "this is final method\n"
     ]
    }
   ],
   "source": [
    "class Example:\n",
    "    def _final_method(self):\n",
    "        \"\"\"this method should not be overridden \"\"\"\n",
    "        print(\"this is final method\")\n",
    "e=Example()\n",
    "e._final_method()"
   ]
  },
  {
   "cell_type": "code",
   "execution_count": 283,
   "metadata": {},
   "outputs": [
    {
     "name": "stdout",
     "output_type": "stream",
     "text": [
      "toyota fortuner\n",
      "toyota\n",
      "fortuner\n"
     ]
    },
    {
     "ename": "AttributeError",
     "evalue": "'Car' object has no attribute '__year'",
     "output_type": "error",
     "traceback": [
      "\u001b[0;31m---------------------------------------------------------------------------\u001b[0m",
      "\u001b[0;31mAttributeError\u001b[0m                            Traceback (most recent call last)",
      "Cell \u001b[0;32mIn[283], line 12\u001b[0m\n\u001b[1;32m     10\u001b[0m \u001b[38;5;28mprint\u001b[39m(car1\u001b[38;5;241m.\u001b[39mmake)\n\u001b[1;32m     11\u001b[0m \u001b[38;5;28mprint\u001b[39m(car1\u001b[38;5;241m.\u001b[39m_model)\n\u001b[0;32m---> 12\u001b[0m \u001b[38;5;28mprint\u001b[39m(\u001b[43mcar1\u001b[49m\u001b[38;5;241;43m.\u001b[39;49m\u001b[43m__year\u001b[49m)\n",
      "\u001b[0;31mAttributeError\u001b[0m: 'Car' object has no attribute '__year'"
     ]
    }
   ],
   "source": [
    "class Car:\n",
    "    def __init__(self,make,model,year):\n",
    "        self.make=make\n",
    "        self._model=model\n",
    "        self.__year=year\n",
    "    def display_info(self):\n",
    "        print(f\"{self.make} {self._model}\")\n",
    "car1=Car(\"toyota\",\"fortuner\",2020)\n",
    "car1.display_info()\n",
    "print(car1.make)\n",
    "print(car1._model)\n",
    "print(car1.__year)\n",
    "        "
   ]
  },
  {
   "cell_type": "code",
   "execution_count": 285,
   "metadata": {},
   "outputs": [
    {
     "name": "stdout",
     "output_type": "stream",
     "text": [
      "value : 5\n"
     ]
    },
    {
     "ename": "NameError",
     "evalue": "name 'global_var' is not defined",
     "output_type": "error",
     "traceback": [
      "\u001b[0;31m---------------------------------------------------------------------------\u001b[0m",
      "\u001b[0;31mNameError\u001b[0m                                 Traceback (most recent call last)",
      "Cell \u001b[0;32mIn[285], line 11\u001b[0m\n\u001b[1;32m      9\u001b[0m localclass\u001b[38;5;241m=\u001b[39mLocalclass(x)\n\u001b[1;32m     10\u001b[0m localclass\u001b[38;5;241m.\u001b[39mdisplay_info()\n\u001b[0;32m---> 11\u001b[0m \u001b[43mglobal_var\u001b[49m()\n",
      "\u001b[0;31mNameError\u001b[0m: name 'global_var' is not defined"
     ]
    }
   ],
   "source": [
    "class Myclass:\n",
    "    def global_var():\n",
    "        x=34\n",
    "class Localclass:\n",
    "    def __init__(self,value):\n",
    "        self.value=value\n",
    "    def display_info(self):\n",
    "        print(\"value :\",self.value)\n",
    "localclass=Localclass(x)\n",
    "localclass.display_info()\n",
    "global_var()"
   ]
  },
  {
   "cell_type": "code",
   "execution_count": 306,
   "metadata": {},
   "outputs": [
    {
     "data": {
      "text/plain": [
       "2"
      ]
     },
     "execution_count": 306,
     "metadata": {},
     "output_type": "execute_result"
    }
   ],
   "source": [
    "import os\n",
    "os.getcwd()\n",
    "f=open(\"myfile.txt\",\"w\")\n",
    "f.write(\"hi\")\n"
   ]
  },
  {
   "cell_type": "code",
   "execution_count": 323,
   "metadata": {},
   "outputs": [
    {
     "name": "stdout",
     "output_type": "stream",
     "text": [
      "hi\n"
     ]
    }
   ],
   "source": [
    "f=open(\"random.txt\",\"w\")\n",
    "f.write(\"hi\")\n",
    "f.close()\n",
    "f=open(\"random.txt\",\"r\")\n",
    "print(f.read())"
   ]
  },
  {
   "cell_type": "code",
   "execution_count": 334,
   "metadata": {},
   "outputs": [
    {
     "name": "stdout",
     "output_type": "stream",
     "text": [
      "120\n"
     ]
    }
   ],
   "source": [
    "def fact(n):\n",
    "    if(n==0 or n==1):\n",
    "        return 1\n",
    "    else:\n",
    "        return n*fact(n-1)\n",
    "\n",
    "num=6\n",
    "num=fact(n)\n",
    "print(num)"
   ]
  },
  {
   "cell_type": "code",
   "execution_count": 333,
   "metadata": {},
   "outputs": [
    {
     "name": "stdout",
     "output_type": "stream",
     "text": [
      "120\n"
     ]
    }
   ],
   "source": [
    "def fact(n):\n",
    "    if n == 0 or n == 1:\n",
    "        return 1\n",
    "    else:\n",
    "        return n * fact(n - 1)\n",
    "\n",
    "n = 5  # Example value for n\n",
    "num = fact(n)\n",
    "print(num)\n"
   ]
  },
  {
   "cell_type": "code",
   "execution_count": 336,
   "metadata": {},
   "outputs": [
    {
     "ename": "ModuleNotFoundError",
     "evalue": "No module named 'math_operation_1'",
     "output_type": "error",
     "traceback": [
      "\u001b[0;31m---------------------------------------------------------------------------\u001b[0m",
      "\u001b[0;31mModuleNotFoundError\u001b[0m                       Traceback (most recent call last)",
      "Cell \u001b[0;32mIn[336], line 3\u001b[0m\n\u001b[1;32m      1\u001b[0m \u001b[38;5;28;01mimport\u001b[39;00m \u001b[38;5;21;01mos\u001b[39;00m\n\u001b[1;32m      2\u001b[0m os\u001b[38;5;241m.\u001b[39mgetcwd()\n\u001b[0;32m----> 3\u001b[0m \u001b[38;5;28;01mimport\u001b[39;00m \u001b[38;5;21;01mmath_operation_1\u001b[39;00m\n\u001b[1;32m      4\u001b[0m \u001b[38;5;28mprint\u001b[39m(math_operation_1\u001b[38;5;241m.\u001b[39madd(\u001b[38;5;241m5\u001b[39m,\u001b[38;5;241m6\u001b[39m))\n",
      "\u001b[0;31mModuleNotFoundError\u001b[0m: No module named 'math_operation_1'"
     ]
    }
   ],
   "source": [
    "import os\n",
    "os.getcwd()\n",
    "import math_operation_1\n",
    "print(math_operation_1.add(5,6))\n",
    "    "
   ]
  },
  {
   "cell_type": "code",
   "execution_count": 337,
   "metadata": {},
   "outputs": [
    {
     "name": "stdout",
     "output_type": "stream",
     "text": [
      "Current working directory: /Users/mohdmaazraeen/Python\n"
     ]
    },
    {
     "ename": "ModuleNotFoundError",
     "evalue": "No module named 'math_operation_1'",
     "output_type": "error",
     "traceback": [
      "\u001b[0;31m---------------------------------------------------------------------------\u001b[0m",
      "\u001b[0;31mModuleNotFoundError\u001b[0m                       Traceback (most recent call last)",
      "Cell \u001b[0;32mIn[337], line 10\u001b[0m\n\u001b[1;32m      7\u001b[0m \u001b[38;5;28mprint\u001b[39m(\u001b[38;5;124m\"\u001b[39m\u001b[38;5;124mCurrent working directory:\u001b[39m\u001b[38;5;124m\"\u001b[39m, os\u001b[38;5;241m.\u001b[39mgetcwd())\n\u001b[1;32m      9\u001b[0m \u001b[38;5;66;03m# Import the module\u001b[39;00m\n\u001b[0;32m---> 10\u001b[0m \u001b[38;5;28;01mimport\u001b[39;00m \u001b[38;5;21;01mmath_operation_1\u001b[39;00m\n\u001b[1;32m     12\u001b[0m \u001b[38;5;66;03m# Call the add function from math_operation_1 module\u001b[39;00m\n\u001b[1;32m     13\u001b[0m \u001b[38;5;28mprint\u001b[39m(math_operation_1\u001b[38;5;241m.\u001b[39madd(\u001b[38;5;241m5\u001b[39m, \u001b[38;5;241m6\u001b[39m))\n",
      "\u001b[0;31mModuleNotFoundError\u001b[0m: No module named 'math_operation_1'"
     ]
    }
   ],
   "source": [
    "import os\n",
    "\n",
    "# Change the current working directory if needed\n",
    "# os.chdir('/path/to/your/module')\n",
    "\n",
    "# Print the current working directory\n",
    "print(\"Current working directory:\", os.getcwd())\n",
    "\n",
    "# Import the module\n",
    "import math_operation_1\n",
    "\n",
    "# Call the add function from math_operation_1 module\n",
    "print(math_operation_1.add(5, 6))\n"
   ]
  },
  {
   "cell_type": "code",
   "execution_count": 345,
   "metadata": {},
   "outputs": [
    {
     "name": "stdout",
     "output_type": "stream",
     "text": [
      "Square root of 16 is: 4.0\n"
     ]
    }
   ],
   "source": [
    "import math\n",
    "\n",
    "def calculate_square_root(number):\n",
    "    return math.sqrt(number)\n",
    "\n",
    "if __name__ == \"__main__\":\n",
    "    number = 16  # Example number\n",
    "    result = calculate_square_root(number)\n",
    "    print(\"Square root of\", number, \"is:\", result)\n"
   ]
  },
  {
   "cell_type": "code",
   "execution_count": 347,
   "metadata": {},
   "outputs": [
    {
     "ename": "ModuleNotFoundError",
     "evalue": "No module named 'module_vehicle'",
     "output_type": "error",
     "traceback": [
      "\u001b[0;31m---------------------------------------------------------------------------\u001b[0m",
      "\u001b[0;31mModuleNotFoundError\u001b[0m                       Traceback (most recent call last)",
      "Cell \u001b[0;32mIn[347], line 1\u001b[0m\n\u001b[0;32m----> 1\u001b[0m \u001b[38;5;28;01mimport\u001b[39;00m \u001b[38;5;21;01mmodule_vehicle\u001b[39;00m\n\u001b[1;32m      2\u001b[0m vehicle1\u001b[38;5;241m=\u001b[39mmodule_vehicle\u001b[38;5;241m.\u001b[39mVehicle(\u001b[38;5;124m\"\u001b[39m\u001b[38;5;124mhonda\u001b[39m\u001b[38;5;124m\"\u001b[39m,\u001b[38;5;124m\"\u001b[39m\u001b[38;5;124mshine\u001b[39m\u001b[38;5;124m\"\u001b[39m,\u001b[38;5;241m2020\u001b[39m)\n\u001b[1;32m      3\u001b[0m vehicle1\u001b[38;5;241m.\u001b[39mdisplay_info()\n",
      "\u001b[0;31mModuleNotFoundError\u001b[0m: No module named 'module_vehicle'"
     ]
    }
   ],
   "source": [
    "import module_vehicle\n",
    "vehicle1=module_vehicle.Vehicle(\"honda\",\"shine\",2020)\n",
    "vehicle1.display_info()\n"
   ]
  },
  {
   "cell_type": "code",
   "execution_count": 355,
   "metadata": {},
   "outputs": [
    {
     "ename": "AttributeError",
     "evalue": "module 'random' has no attribute 'rand1'",
     "output_type": "error",
     "traceback": [
      "\u001b[0;31m---------------------------------------------------------------------------\u001b[0m",
      "\u001b[0;31mAttributeError\u001b[0m                            Traceback (most recent call last)",
      "Cell \u001b[0;32mIn[355], line 25\u001b[0m\n\u001b[1;32m     22\u001b[0m         \u001b[38;5;28mprint\u001b[39m(\u001b[38;5;124m\"\u001b[39m\u001b[38;5;124mSorry, the correct number was:\u001b[39m\u001b[38;5;124m\"\u001b[39m, random_number)\n\u001b[1;32m     24\u001b[0m \u001b[38;5;28;01mif\u001b[39;00m \u001b[38;5;18m__name__\u001b[39m \u001b[38;5;241m==\u001b[39m \u001b[38;5;124m\"\u001b[39m\u001b[38;5;124m__main__\u001b[39m\u001b[38;5;124m\"\u001b[39m:\n\u001b[0;32m---> 25\u001b[0m     \u001b[43mguess_number\u001b[49m\u001b[43m(\u001b[49m\u001b[43m)\u001b[49m\n",
      "Cell \u001b[0;32mIn[355], line 5\u001b[0m, in \u001b[0;36mguess_number\u001b[0;34m()\u001b[0m\n\u001b[1;32m      3\u001b[0m \u001b[38;5;28;01mdef\u001b[39;00m \u001b[38;5;21mguess_number\u001b[39m():\n\u001b[1;32m      4\u001b[0m     \u001b[38;5;66;03m# Generate a random number between 1 and 10\u001b[39;00m\n\u001b[0;32m----> 5\u001b[0m     random_number \u001b[38;5;241m=\u001b[39m \u001b[43mrandom\u001b[49m\u001b[38;5;241;43m.\u001b[39;49m\u001b[43mrand1\u001b[49m(\u001b[38;5;241m1\u001b[39m, \u001b[38;5;241m10\u001b[39m)\n\u001b[1;32m      7\u001b[0m     \u001b[38;5;66;03m# Prompt the user to guess the number\u001b[39;00m\n\u001b[1;32m      8\u001b[0m     \u001b[38;5;28;01mwhile\u001b[39;00m \u001b[38;5;28;01mTrue\u001b[39;00m:\n",
      "\u001b[0;31mAttributeError\u001b[0m: module 'random' has no attribute 'rand1'"
     ]
    }
   ],
   "source": [
    "import random\n",
    "\n",
    "def guess_number():\n",
    "    # Generate a random number between 1 and 10\n",
    "    random_number = random.randint(1, 10)\n",
    "    \n",
    "    # Prompt the user to guess the number\n",
    "    while True:\n",
    "        try:\n",
    "            guess = int(input(\"Guess the number between 1 and 10: \"))\n",
    "            if guess < 1 or guess > 10:\n",
    "                print(\"Please enter a number between 1 and 10.\")\n",
    "                continue\n",
    "            break\n",
    "        except ValueError:\n",
    "            print(\"Please enter a valid number.\")\n",
    "\n",
    "    # Check if the guess is correct\n",
    "    if guess == random_number:\n",
    "        print(\"Congratulations! You guessed the correct number:\", random_number)\n",
    "    else:\n",
    "        print(\"Sorry, the correct number was:\", random_number)\n",
    "\n",
    "if __name__ == \"__main__\":\n",
    "    guess_number()\n"
   ]
  },
  {
   "cell_type": "code",
   "execution_count": 364,
   "metadata": {},
   "outputs": [
    {
     "name": "stdout",
     "output_type": "stream",
     "text": [
      "25.406425777638894\n"
     ]
    }
   ],
   "source": [
    "import random\n",
    "print(random.uniform(1,100))"
   ]
  },
  {
   "cell_type": "code",
   "execution_count": 367,
   "metadata": {},
   "outputs": [
    {
     "name": "stdout",
     "output_type": "stream",
     "text": [
      "0.28955323893407703\n",
      "0.4869675748227327\n"
     ]
    }
   ],
   "source": [
    "print(random.random())\n",
    "print(random.random())"
   ]
  },
  {
   "cell_type": "code",
   "execution_count": 373,
   "metadata": {},
   "outputs": [
    {
     "name": "stdout",
     "output_type": "stream",
     "text": [
      "0.7421172774367764\n",
      "0.8279271331061403\n"
     ]
    }
   ],
   "source": [
    "random.seed(263)\n",
    "print(random.random())\n",
    "print(random.random())"
   ]
  },
  {
   "cell_type": "code",
   "execution_count": 377,
   "metadata": {},
   "outputs": [
    {
     "name": "stdout",
     "output_type": "stream",
     "text": [
      "0.7421172774367764\n",
      "0.8279271331061403\n"
     ]
    }
   ],
   "source": [
    "random.seed(263)\n",
    "print(random.random())\n",
    "print(random.random())"
   ]
  },
  {
   "cell_type": "code",
   "execution_count": 384,
   "metadata": {},
   "outputs": [
    {
     "name": "stdout",
     "output_type": "stream",
     "text": [
      "mango\n",
      "['carrot', 'tamatto', 'apple']\n"
     ]
    }
   ],
   "source": [
    "seq=[\"apple\",\"mango\",\"tamatto\",\"carrot\",\"banana\"]\n",
    "print(random.choice(seq))\n",
    "print(random.sample(seq,3))"
   ]
  },
  {
   "cell_type": "code",
   "execution_count": 395,
   "metadata": {},
   "outputs": [
    {
     "data": {
      "text/plain": [
       "['mango', 'carrot', 'tamatto', 'apple', 'banana']"
      ]
     },
     "execution_count": 395,
     "metadata": {},
     "output_type": "execute_result"
    }
   ],
   "source": [
    "seq=[\"apple\",\"mango\",\"tamatto\",\"carrot\",\"banana\"]\n",
    "random.shuffle(seq)\n",
    "seq\n"
   ]
  },
  {
   "cell_type": "code",
   "execution_count": 402,
   "metadata": {},
   "outputs": [
    {
     "name": "stdout",
     "output_type": "stream",
     "text": [
      "element -1 not found\n"
     ]
    }
   ],
   "source": [
    "#linear search\n",
    "def linear_search(arr,target):\n",
    "    for i in range(len(arr)):\n",
    "        if arr[i]==target:\n",
    "            return i\n",
    "    return -1\n",
    "arr=[3,4,5,6,7,2]\n",
    "target=3\n",
    "index = linear_search(arr,target)\n",
    "if index!=-1:\n",
    "    print(f\"element {target} found at index {index}\")\n",
    "else:\n",
    "    print(f\"element {target} not found\")\n"
   ]
  },
  {
   "cell_type": "code",
   "execution_count": 410,
   "metadata": {},
   "outputs": [
    {
     "name": "stdout",
     "output_type": "stream",
     "text": [
      "before sorting [32, 4, 5, 6, 3, 4, 6, 4]\n",
      "after sorting [3, 4, 4, 4, 5, 6, 6, 32]\n"
     ]
    }
   ],
   "source": [
    "def bubble_sort(arr):\n",
    "    n=len(arr)\n",
    "    for i in range(n):\n",
    "        for j in range(0,n-i-1):\n",
    "            if arr[j]>arr[j+1]:\n",
    "                arr[j],arr[j+1]=arr[j+1],arr[j]\n",
    "arr=[32,4,5,6,3,4,6,4]\n",
    "print(\"before sorting\",arr)\n",
    "bubble_sort(arr)\n",
    "print(\"after sorting\",arr)\n"
   ]
  },
  {
   "cell_type": "code",
   "execution_count": 411,
   "metadata": {},
   "outputs": [
    {
     "name": "stdout",
     "output_type": "stream",
     "text": [
      "120\n"
     ]
    }
   ],
   "source": [
    "def factorial(n):\n",
    "    if n==0 or n==1:\n",
    "        return 1\n",
    "    else:\n",
    "        return n*factorial(n-1)\n",
    "n=5\n",
    "num=fact(n)\n",
    "print(num)"
   ]
  },
  {
   "cell_type": "code",
   "execution_count": null,
   "metadata": {},
   "outputs": [],
   "source": [
    "def fact(n):\n",
    "    if n == 0 or n == 1:\n",
    "        return 1\n",
    "    else:\n",
    "        return n * fact(n - 1)\n",
    "\n",
    "n = 5  # Example value for n\n",
    "num = fact(n)\n",
    "print(num)\n"
   ]
  },
  {
   "cell_type": "code",
   "execution_count": 422,
   "metadata": {},
   "outputs": [
    {
     "name": "stdout",
     "output_type": "stream",
     "text": [
      "first 5 terms of fibonacci series : [0, 1, 1, 2, 3]\n"
     ]
    }
   ],
   "source": [
    "def fibonacci_recursive(n):\n",
    "    if n==0:\n",
    "        return []\n",
    "    elif n==1:\n",
    "        return [0]\n",
    "    elif n==2:\n",
    "        return [0,1]\n",
    "    else:\n",
    "        fib_sequence=fibonacci_recursive(n-1)\n",
    "        fib_sequence.append(fib_sequence[-1]+fib_sequence[-2])\n",
    "        return fib_sequence\n",
    "n=5\n",
    "fibonacci_recursive(n)\n",
    "fib_sequence=fibonacci_recursive(n)\n",
    "print(\"first\",n,\"terms of fibonacci series :\",fib_sequence)"
   ]
  },
  {
   "cell_type": "code",
   "execution_count": 417,
   "metadata": {},
   "outputs": [
    {
     "name": "stdout",
     "output_type": "stream",
     "text": [
      "first 10 terms of fibonacci series : [0, 1, 1, 2, 3, 5, 8, 13, 21, 34]\n"
     ]
    }
   ],
   "source": [
    "def fib(n):\n",
    "    if n==0:\n",
    "        return []\n",
    "    elif n==1:\n",
    "        return [0]\n",
    "    elif n==2:\n",
    "        return [0,1]\n",
    "    else:\n",
    "        fib_seq=fib(n-1)\n",
    "        fib_seq.append(fib_seq[-1]+fib_seq[-2])\n",
    "        return fib_seq\n",
    "n=10\n",
    "fib_seq=fib(n)\n",
    "print(\"first\",n,\"terms of fibonacci series :\",fib_seq)\n",
    "    "
   ]
  },
  {
   "cell_type": "code",
   "execution_count": null,
   "metadata": {},
   "outputs": [],
   "source": []
  }
 ],
 "metadata": {
  "kernelspec": {
   "display_name": "Python 3",
   "language": "python",
   "name": "python3"
  },
  "language_info": {
   "codemirror_mode": {
    "name": "ipython",
    "version": 3
   },
   "file_extension": ".py",
   "mimetype": "text/x-python",
   "name": "python",
   "nbconvert_exporter": "python",
   "pygments_lexer": "ipython3",
   "version": "3.9.6"
  }
 },
 "nbformat": 4,
 "nbformat_minor": 2
}
