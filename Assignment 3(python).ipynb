{
 "cells": [
  {
   "cell_type": "markdown",
   "metadata": {},
   "source": [
    "### 1. Write a Python function named calculate_area that takes the radius of a circle as a parameter and returns the area of the circle. Call the function with a radius of 5 and print the result.\n",
    "\n",
    "\n"
   ]
  },
  {
   "cell_type": "code",
   "execution_count": 5,
   "metadata": {},
   "outputs": [
    {
     "data": {
      "text/plain": [
       "('aera of circle = ', 78.5)"
      ]
     },
     "execution_count": 5,
     "metadata": {},
     "output_type": "execute_result"
    }
   ],
   "source": [
    "def calculate_area(redius):\n",
    "    area=redius**2 *3.14\n",
    "    return \"aera of circle = \", area\n",
    "calculate_area(5)"
   ]
  },
  {
   "cell_type": "code",
   "execution_count": null,
   "metadata": {},
   "outputs": [],
   "source": []
  },
  {
   "cell_type": "markdown",
   "metadata": {},
   "source": [
    "### 2. Differentiate between built-in functions and user-defined functions in Python. Provide examples of each.\n"
   ]
  },
  {
   "cell_type": "markdown",
   "metadata": {},
   "source": [
    "### Built-in functions are functions that are already defined and available in Python's standard library. They serve various purposes and are readily accessible without the need for additional code.\n"
   ]
  },
  {
   "cell_type": "code",
   "execution_count": 27,
   "metadata": {},
   "outputs": [
    {
     "data": {
      "text/plain": [
       "28"
      ]
     },
     "execution_count": 27,
     "metadata": {},
     "output_type": "execute_result"
    }
   ],
   "source": [
    "# built in function \n",
    "my_list=[2,5,4,7,1,9]\n",
    "sum(my_list)"
   ]
  },
  {
   "cell_type": "markdown",
   "metadata": {},
   "source": [
    "### User-defined functions are functions that are defined by the user to perform a specific task. These functions can be customized as per the user's requirements and can be reused throughout the program."
   ]
  },
  {
   "cell_type": "code",
   "execution_count": 1,
   "metadata": {},
   "outputs": [
    {
     "name": "stdout",
     "output_type": "stream",
     "text": [
      "sum of numbers 26\n"
     ]
    }
   ],
   "source": [
    "#user definr function\n",
    "def my_list(numbers):\n",
    "    \"\"\"function to calculate the sum of the numbers  \"\"\"\n",
    "    total=0\n",
    "    for num in numbers:\n",
    "        total+=num\n",
    "    return total\n",
    "num_list = [6,2,9,4,5]\n",
    "print(\"sum of numbers\",my_list(num_list)) #calling the user define function"
   ]
  },
  {
   "cell_type": "markdown",
   "metadata": {},
   "source": [
    "### 3. Create a function called add_numbers that takes variable arguments and returns their sum. Call the function with different numbers of arguments (e.g., 2, 3, 5) and print the results.\n",
    "\n"
   ]
  },
  {
   "cell_type": "code",
   "execution_count": 7,
   "metadata": {},
   "outputs": [
    {
     "name": "stdout",
     "output_type": "stream",
     "text": [
      "result1 =  5\n",
      "result2 =  11\n",
      "result3 =  12\n"
     ]
    }
   ],
   "source": [
    "def add_numbers(*num):\n",
    "    return sum(num)\n",
    "result1=add_numbers(2,3)\n",
    "print(\"result1 = \",result1)\n",
    "result2=add_numbers(5,6)\n",
    "print(\"result2 = \" ,result2)\n",
    "result3=add_numbers(3,9)\n",
    "print(\"result3 = \" ,result3)"
   ]
  },
  {
   "cell_type": "markdown",
   "metadata": {},
   "source": [
    "### 4. Define an anonymous function (lambda function) that squares a given number. Use the lambda function to square the numbers 1 to 5 and print the results.\n"
   ]
  },
  {
   "cell_type": "code",
   "execution_count": 30,
   "metadata": {},
   "outputs": [
    {
     "name": "stdout",
     "output_type": "stream",
     "text": [
      "Square of 1 1\n",
      "Square of 2 4\n",
      "Square of 3 9\n",
      "Square of 4 16\n",
      "Square of 5 25\n"
     ]
    }
   ],
   "source": [
    "square = lambda x: x ** 2\n",
    "for i in range(1, 6):\n",
    "    print(\"Square of\", i, \":\", square(i))\n"
   ]
  },
  {
   "cell_type": "markdown",
   "metadata": {},
   "source": [
    "### 5. Explain the concepts of global and local variables in Python. Write a function that uses both global and local variables, demonstrating their scopes.\n"
   ]
  },
  {
   "cell_type": "markdown",
   "metadata": {},
   "source": []
  },
  {
   "cell_type": "code",
   "execution_count": 31,
   "metadata": {},
   "outputs": [
    {
     "name": "stdout",
     "output_type": "stream",
     "text": [
      "Inside the function:\n",
      "Global variable: 15\n",
      "Local variable: 20\n",
      "Outside the function - Global variable: 15\n"
     ]
    }
   ],
   "source": [
    "global_variable = 10  # Global variable\n",
    "\n",
    "def modify_variables():\n",
    "    # Access the global variable\n",
    "    global global_variable\n",
    "    \n",
    "    # Modify the global variable\n",
    "    global_variable += 5\n",
    "    \n",
    "    # Define a local variable\n",
    "    local_variable = 20\n",
    "    \n",
    "    # Print both global and local variables\n",
    "    print(\"Inside the function:\")\n",
    "    print(\"Global variable:\", global_variable)\n",
    "    print(\"Local variable:\", local_variable)\n",
    "\n",
    "# Call the function\n",
    "modify_variables()\n",
    "\n",
    "# Try to access local_variable outside the function (will raise NameError)\n",
    "# print(\"Outside the function - Local variable:\", local_variable)\n",
    "\n",
    "# Print the global variable outside the function\n",
    "print(\"Outside the function - Global variable:\", global_variable)\n"
   ]
  },
  {
   "cell_type": "markdown",
   "metadata": {},
   "source": [
    "### 9. Create a Python program that defines a custom exception called NegativeValueError. Write a function that accepts a number as a parameter and raises this exception if the number is negative.\n",
    "\n"
   ]
  },
  {
   "cell_type": "code",
   "execution_count": 1,
   "metadata": {},
   "outputs": [
    {
     "name": "stdout",
     "output_type": "stream",
     "text": [
      "The number is positive.\n",
      "NegativeValueError: The value -3 is negative.\n"
     ]
    }
   ],
   "source": [
    "# Define a custom exception called NegativeValueError\n",
    "class NegativeValueError(Exception):\n",
    "    def __init__(self, value):\n",
    "        self.value = value\n",
    "\n",
    "    def __str__(self):\n",
    "        return f\"NegativeValueError: The value {self.value} is negative.\"\n",
    "\n",
    "\n",
    "# Define a function that accepts a number and raises NegativeValueError if it's negative\n",
    "def check_positive_number(num):\n",
    "    if num < 0:\n",
    "        raise NegativeValueError(num)\n",
    "    else:\n",
    "        print(\"The number is positive.\")\n",
    "\n",
    "\n",
    "# Test the function with various inputs\n",
    "try:\n",
    "    check_positive_number(5)\n",
    "    check_positive_number(-3)  # This will raise NegativeValueError\n",
    "    check_positive_number(10)\n",
    "except NegativeValueError as e:\n",
    "    print(e)\n"
   ]
  },
  {
   "cell_type": "markdown",
   "metadata": {},
   "source": [
    "### 10. Design a Python function that takes two parameters (numerator anddenominator) and calculates the quotient. Handle potential division by zero exceptions using a custom exception. Test the function with different inputs\n",
    "\n"
   ]
  },
  {
   "cell_type": "code",
   "execution_count": 26,
   "metadata": {},
   "outputs": [
    {
     "name": "stdout",
     "output_type": "stream",
     "text": [
      "Quotient: 5.0\n",
      "Error: Division by zero is not allowed.\n"
     ]
    }
   ],
   "source": [
    "# Define a custom exception called DivisionByZeroError\n",
    "class DivisionByZeroError(Exception):\n",
    "    def __init__(self):\n",
    "        super().__init__(\"Division by zero is not allowed.\")\n",
    "\n",
    "# Define a function to calculate the quotient\n",
    "def calculate_quotient(numerator, denominator):\n",
    "    # Check if the denominator is zero\n",
    "    if denominator == 0:\n",
    "        # If denominator is zero, raise DivisionByZeroError\n",
    "        raise DivisionByZeroError()\n",
    "    else:\n",
    "        # Otherwise, calculate and return the quotient\n",
    "        return numerator / denominator\n",
    "\n",
    "# Test the function with different inputs\n",
    "try:\n",
    "    # Test with valid inputs\n",
    "    print(\"Quotient:\", calculate_quotient(10, 2))\n",
    "    \n",
    "    # Test with division by zero\n",
    "    print(\"Quotient:\", calculate_quotient(5, 0))  # This will raise DivisionByZeroError\n",
    "except DivisionByZeroError as e:\n",
    "    print(\"Error:\", e)\n"
   ]
  },
  {
   "cell_type": "markdown",
   "metadata": {},
   "source": [
    "### 11. Write a recursive function to generate the first n terms of the Fibonacci sequence.\n"
   ]
  },
  {
   "cell_type": "code",
   "execution_count": null,
   "metadata": {},
   "outputs": [],
   "source": []
  },
  {
   "cell_type": "markdown",
   "metadata": {},
   "source": [
    "### 12. Define a function named greet_user that takes two parameters, name and greeting. If greeting is not provided, the function should default to \"Hello.\" The function should then print the greeting followed by the name.\n",
    "\n"
   ]
  },
  {
   "cell_type": "code",
   "execution_count": null,
   "metadata": {},
   "outputs": [],
   "source": []
  },
  {
   "cell_type": "code",
   "execution_count": 3,
   "metadata": {},
   "outputs": [
    {
     "name": "stdout",
     "output_type": "stream",
     "text": [
      "Error: The file does not exist.\n"
     ]
    }
   ],
   "source": [
    "# Q.7\n",
    "try:\n",
    "    # Attempt to access a non-existent file\n",
    "    with open(\"non_existent_file.txt\"):\n",
    "        pass  # Placeholder, as we're not actually reading the file\n",
    "except FileNotFoundError:\n",
    "    print(\"Error: The file does not exist.\")"
   ]
  },
  {
   "cell_type": "code",
   "execution_count": 6,
   "metadata": {},
   "outputs": [
    {
     "name": "stdout",
     "output_type": "stream",
     "text": [
      "result 1.0\n",
      "end of the program\n"
     ]
    }
   ],
   "source": [
    "# Q.8\n",
    "try:\n",
    "    num1=int(input(\"num1\"))\n",
    "    num2=(int(input(\"num2\")))\n",
    "    result=num1/num2\n",
    "    \n",
    "except ValueError:\n",
    "    print(\"please enter a valid integer\")\n",
    "except ZeroDivisionError:\n",
    "    print(\"can't divide by zero\")\n",
    "else:\n",
    "    print(\"result\",result)\n",
    "    \n",
    "finally:\n",
    "    print(\"end of the program\")"
   ]
  },
  {
   "cell_type": "code",
   "execution_count": 3,
   "metadata": {},
   "outputs": [
    {
     "name": "stdout",
     "output_type": "stream",
     "text": [
      "5.0\n",
      "always excecuted\n"
     ]
    }
   ],
   "source": [
    "try:\n",
    "    k=5/1\n",
    "    print(k)\n",
    "except:\n",
    "    print(\"this is always excecuted\")\n",
    "finally:\n",
    "    print(\"always excecuted\")"
   ]
  },
  {
   "cell_type": "code",
   "execution_count": 1,
   "metadata": {},
   "outputs": [],
   "source": [
    "try:\n",
    "    # Attempt to open a file for writing\n",
    "    file = open(\"example.txt\", \"w\")\n",
    "    file.write(\"Hello, World!\")\n",
    "except IOError:\n",
    "    print(\"Error: Failed to write to file.\")\n",
    "finally:\n",
    "    # Close the file regardless of whether an exception occurred or not\n",
    "    file.close()\n"
   ]
  },
  {
   "cell_type": "code",
   "execution_count": 1,
   "metadata": {},
   "outputs": [
    {
     "ename": "ModuleNotFoundError",
     "evalue": "No module named 'matplotlib'",
     "output_type": "error",
     "traceback": [
      "\u001b[0;31m---------------------------------------------------------------------------\u001b[0m",
      "\u001b[0;31mModuleNotFoundError\u001b[0m                       Traceback (most recent call last)",
      "Cell \u001b[0;32mIn[1], line 1\u001b[0m\n\u001b[0;32m----> 1\u001b[0m \u001b[38;5;28;01mimport\u001b[39;00m \u001b[38;5;21;01mmatplotlib\u001b[39;00m\u001b[38;5;21;01m.\u001b[39;00m\u001b[38;5;21;01mpyplot\u001b[39;00m \u001b[38;5;28;01mas\u001b[39;00m \u001b[38;5;21;01mplt\u001b[39;00m\n\u001b[1;32m      2\u001b[0m \u001b[38;5;28;01mimport\u001b[39;00m \u001b[38;5;21;01mnumpy\u001b[39;00m \u001b[38;5;28;01mas\u001b[39;00m \u001b[38;5;21;01mnp\u001b[39;00m\n\u001b[1;32m      4\u001b[0m x \u001b[38;5;241m=\u001b[39m np\u001b[38;5;241m.\u001b[39mlinspace(\u001b[38;5;241m0\u001b[39m, \u001b[38;5;241m2\u001b[39m \u001b[38;5;241m*\u001b[39m np\u001b[38;5;241m.\u001b[39mpi, \u001b[38;5;241m100\u001b[39m)\n",
      "\u001b[0;31mModuleNotFoundError\u001b[0m: No module named 'matplotlib'"
     ]
    }
   ],
   "source": [
    "import matplotlib.pyplot as plt\n",
    "import numpy as np\n",
    "\n",
    "x = np.linspace(0, 2 * np.pi, 100)\n",
    "y = np.sin(x)\n",
    "\n",
    "plt.plot(x, y)\n",
    "plt.show()"
   ]
  }
 ],
 "metadata": {
  "kernelspec": {
   "display_name": "Python 3",
   "language": "python",
   "name": "python3"
  },
  "language_info": {
   "codemirror_mode": {
    "name": "ipython",
    "version": 3
   },
   "file_extension": ".py",
   "mimetype": "text/x-python",
   "name": "python",
   "nbconvert_exporter": "python",
   "pygments_lexer": "ipython3",
   "version": "3.9.6"
  }
 },
 "nbformat": 4,
 "nbformat_minor": 2
}
