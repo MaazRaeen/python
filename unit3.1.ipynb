{
 "cells": [
  {
   "cell_type": "code",
   "execution_count": 14,
   "metadata": {},
   "outputs": [],
   "source": [
    "def myinfo():\n",
    "    \"\"\"this function will print my information\"\"\" # docstring\n",
    "    name=\"Mohd Maaz raeen\"\n",
    "    course=\"B.tech\"\n",
    "    system_id= 2023322256\n",
    "    print(\"i am\",name,\"and my course is\",course,\"and system id is \",system_id)"
   ]
  },
  {
   "cell_type": "code",
   "execution_count": 27,
   "metadata": {},
   "outputs": [
    {
     "name": "stdout",
     "output_type": "stream",
     "text": [
      "i am Mohd Maaz raeen and my course is B.tech and system id is  2023322256\n"
     ]
    }
   ],
   "source": [
    "(myinfo())"
   ]
  },
  {
   "cell_type": "markdown",
   "metadata": {},
   "source": [
    "### positional argument"
   ]
  },
  {
   "cell_type": "code",
   "execution_count": 28,
   "metadata": {},
   "outputs": [],
   "source": [
    "def any_info(name,system_id): #argument\n",
    "    \"\"\"this function woll print any info\"\"\" #docstring\n",
    "    print(\"student name is \",name,\"and system id is \",system_id)\n",
    "    "
   ]
  },
  {
   "cell_type": "code",
   "execution_count": 29,
   "metadata": {},
   "outputs": [
    {
     "name": "stdout",
     "output_type": "stream",
     "text": [
      "student name is  maaz and system id is  2023322256\n"
     ]
    }
   ],
   "source": [
    "any_info(\"maaz\",2023322256)"
   ]
  },
  {
   "cell_type": "markdown",
   "metadata": {},
   "source": [
    "### keyword argument\n"
   ]
  },
  {
   "cell_type": "code",
   "execution_count": 30,
   "metadata": {},
   "outputs": [],
   "source": [
    "def info(name,roll_no): #argument\n",
    "    \"\"\"this function will print info\"\"\" #docstring\n",
    "    print(\"my name is\",name,\"and roll no is\",roll_no)"
   ]
  },
  {
   "cell_type": "code",
   "execution_count": 31,
   "metadata": {},
   "outputs": [
    {
     "name": "stdout",
     "output_type": "stream",
     "text": [
      "my name is maaz and roll no is 1234\n"
     ]
    }
   ],
   "source": [
    "info(roll_no=1234,name=\"maaz\")"
   ]
  },
  {
   "cell_type": "markdown",
   "metadata": {},
   "source": [
    "### default argument"
   ]
  },
  {
   "cell_type": "code",
   "execution_count": 2,
   "metadata": {},
   "outputs": [],
   "source": [
    "def my_info(name,id,univ_name=\"sharda university\"): #argument\n",
    "    \"\"\"this function woll print my_info\"\"\" #docstring\n",
    "    print(\"my name is \",name,\"and id is \",id,\"university name is \",univ_name)\n",
    "    "
   ]
  },
  {
   "cell_type": "code",
   "execution_count": 34,
   "metadata": {},
   "outputs": [
    {
     "name": "stdout",
     "output_type": "stream",
     "text": [
      "my name is  maaz and id is  234 university name is  sharda university\n"
     ]
    }
   ],
   "source": [
    "my_info(name=\"maaz\",id=234)"
   ]
  },
  {
   "cell_type": "markdown",
   "metadata": {},
   "source": [
    "## function with return statement\n"
   ]
  },
  {
   "cell_type": "code",
   "execution_count": 1,
   "metadata": {},
   "outputs": [],
   "source": [
    "def numbers(a,b):\n",
    "    \"\"\"this function will return sum \"\"\"\n",
    "    return a+b"
   ]
  },
  {
   "cell_type": "code",
   "execution_count": 2,
   "metadata": {},
   "outputs": [
    {
     "data": {
      "text/plain": [
       "5"
      ]
     },
     "execution_count": 2,
     "metadata": {},
     "output_type": "execute_result"
    }
   ],
   "source": [
    "numbers(3,2)"
   ]
  },
  {
   "cell_type": "code",
   "execution_count": 8,
   "metadata": {},
   "outputs": [],
   "source": [
    "# Q square a number and divide by 2\n",
    "def number(a):\n",
    "    \"\"\"this function will return ...\"\"\"\n",
    "    return a**2/2 "
   ]
  },
  {
   "cell_type": "code",
   "execution_count": 6,
   "metadata": {},
   "outputs": [
    {
     "data": {
      "text/plain": [
       "8.0"
      ]
     },
     "execution_count": 6,
     "metadata": {},
     "output_type": "execute_result"
    }
   ],
   "source": [
    "number(4)"
   ]
  },
  {
   "cell_type": "code",
   "execution_count": 11,
   "metadata": {},
   "outputs": [],
   "source": [
    "# Q.6 \n",
    "def discount(a):\n",
    "    \"\"\"this function will return mobile price after discount\"\"\"\n",
    "    price=40000\n",
    "    return price-(price*a)/100"
   ]
  },
  {
   "cell_type": "code",
   "execution_count": 13,
   "metadata": {},
   "outputs": [
    {
     "data": {
      "text/plain": [
       "36000.0"
      ]
     },
     "execution_count": 13,
     "metadata": {},
     "output_type": "execute_result"
    }
   ],
   "source": [
    "discount(10)"
   ]
  },
  {
   "cell_type": "code",
   "execution_count": 3,
   "metadata": {},
   "outputs": [],
   "source": [
    "def number(a):\n",
    "    \"\"\"this function ...\"\"\"\n",
    "    if a%2==0:\n",
    "        return True\n",
    "    else:\n",
    "        return False"
   ]
  },
  {
   "cell_type": "code",
   "execution_count": 4,
   "metadata": {},
   "outputs": [
    {
     "data": {
      "text/plain": [
       "True"
      ]
     },
     "execution_count": 4,
     "metadata": {},
     "output_type": "execute_result"
    }
   ],
   "source": [
    "number(44)"
   ]
  },
  {
   "cell_type": "markdown",
   "metadata": {},
   "source": [
    "### or"
   ]
  },
  {
   "cell_type": "code",
   "execution_count": 5,
   "metadata": {},
   "outputs": [],
   "source": [
    "def is_even(num):\n",
    "    \"\"\"this ...\"\"\"\n",
    "    return num%2==0"
   ]
  },
  {
   "cell_type": "code",
   "execution_count": 6,
   "metadata": {},
   "outputs": [
    {
     "data": {
      "text/plain": [
       "False"
      ]
     },
     "execution_count": 6,
     "metadata": {},
     "output_type": "execute_result"
    }
   ],
   "source": [
    "is_even(3)"
   ]
  },
  {
   "cell_type": "code",
   "execution_count": 8,
   "metadata": {},
   "outputs": [],
   "source": [
    "# Q.8\n",
    "def digits(num1,num2):\n",
    "    \"\"\"this function will return sum , product , and division\"\"\"\n",
    "    return num1+num2,num1*num2,num1/num2"
   ]
  },
  {
   "cell_type": "code",
   "execution_count": 10,
   "metadata": {},
   "outputs": [
    {
     "data": {
      "text/plain": [
       "(10, 25, 1.0)"
      ]
     },
     "execution_count": 10,
     "metadata": {},
     "output_type": "execute_result"
    }
   ],
   "source": [
    "digits(5,5)"
   ]
  },
  {
   "cell_type": "code",
   "execution_count": 11,
   "metadata": {},
   "outputs": [],
   "source": [
    "def sum_sub(num1,num2):\n",
    "    addition=num1+num2\n",
    "    product=num1*num2\n",
    "    division=num1/num2\n",
    "    return addition,product,division\n",
    "\n"
   ]
  },
  {
   "cell_type": "code",
   "execution_count": 13,
   "metadata": {},
   "outputs": [
    {
     "data": {
      "text/plain": [
       "(4, 4, 1.0)"
      ]
     },
     "execution_count": 13,
     "metadata": {},
     "output_type": "execute_result"
    }
   ],
   "source": [
    "sum_sub(2,2)"
   ]
  },
  {
   "cell_type": "markdown",
   "metadata": {},
   "source": [
    "## *args and **kwargs"
   ]
  },
  {
   "cell_type": "markdown",
   "metadata": {},
   "source": [
    "### Q. to calculate fruits price\n"
   ]
  },
  {
   "cell_type": "code",
   "execution_count": 34,
   "metadata": {},
   "outputs": [
    {
     "name": "stdout",
     "output_type": "stream",
     "text": [
      "sum=  6\n"
     ]
    }
   ],
   "source": [
    "# without *args\n",
    "def calculate_sum(apple,bananan,orange):\n",
    "    total = apple+bananan+orange\n",
    "    return total\n",
    "result=calculate_sum(1,2,3)\n",
    "print(\"sum= \",result)"
   ]
  },
  {
   "cell_type": "code",
   "execution_count": 1,
   "metadata": {},
   "outputs": [
    {
     "name": "stdout",
     "output_type": "stream",
     "text": [
      "sum =  45\n"
     ]
    }
   ],
   "source": [
    "# using *args\n",
    "def calculate(*addition):\n",
    "    return sum(addition)\n",
    "\n",
    "result = calculate(1,2,3,4,5,6,7,8,9)\n",
    "print(\"sum = \",result)"
   ]
  },
  {
   "cell_type": "code",
   "execution_count": 1,
   "metadata": {},
   "outputs": [
    {
     "name": "stdout",
     "output_type": "stream",
     "text": [
      "sum =  55.8\n"
     ]
    }
   ],
   "source": [
    "def calculate(*price,discount=0.1):\n",
    "    total=sum(price)-discount*sum(price)\n",
    "    return total\n",
    "result = calculate(10,20,32)\n",
    "print(\"sum = \",result)"
   ]
  },
  {
   "cell_type": "code",
   "execution_count": 13,
   "metadata": {},
   "outputs": [
    {
     "data": {
      "text/plain": [
       "55.8"
      ]
     },
     "execution_count": 13,
     "metadata": {},
     "output_type": "execute_result"
    }
   ],
   "source": [
    "def calculate(*price,discount=0.1):\n",
    "    total=sum(price)-discount*sum(price)\n",
    "    return total\n",
    "calculate(10,20,32)"
   ]
  },
  {
   "cell_type": "code",
   "execution_count": 24,
   "metadata": {},
   "outputs": [
    {
     "name": "stdout",
     "output_type": "stream",
     "text": [
      "sum of fruit 40\n",
      "discount  0.1\n",
      "discount price =  4.0\n",
      "total =  36.0\n"
     ]
    }
   ],
   "source": [
    "#Explanation\n",
    "def calculate_sum(*price,discount=0.1):\n",
    "    sum(price)\n",
    "    print(\"sum of fruit\",sum(price))\n",
    "    print(\"discount \",discount)\n",
    "    print(\"discount price = \",discount*sum(price))\n",
    "    total =sum(price)-discount*sum(price)\n",
    "    return total\n",
    "result= calculate_sum(12,13,15)\n",
    "print(\"total = \",result)"
   ]
  },
  {
   "cell_type": "code",
   "execution_count": 29,
   "metadata": {},
   "outputs": [
    {
     "ename": "TypeError",
     "evalue": "unsupported operand type(s) for *: 'float' and 'dict_values'",
     "output_type": "error",
     "traceback": [
      "\u001b[0;31m---------------------------------------------------------------------------\u001b[0m",
      "\u001b[0;31mTypeError\u001b[0m                                 Traceback (most recent call last)",
      "Cell \u001b[0;32mIn[29], line 10\u001b[0m\n\u001b[1;32m      8\u001b[0m total\u001b[38;5;241m=\u001b[39mcalculate_total(banana\u001b[38;5;241m=\u001b[39mbanana_price,apple\u001b[38;5;241m=\u001b[39mapple_price,mango\u001b[38;5;241m=\u001b[39mmango_price)\n\u001b[1;32m      9\u001b[0m \u001b[38;5;66;03m#discount\u001b[39;00m\n\u001b[0;32m---> 10\u001b[0m discount\u001b[38;5;241m=\u001b[39m\u001b[38;5;241;43m0.1\u001b[39;49m\u001b[38;5;241;43m*\u001b[39;49m\u001b[43mtotal\u001b[49m\n\u001b[1;32m     11\u001b[0m \u001b[38;5;28mprint\u001b[39m(\u001b[38;5;124m\"\u001b[39m\u001b[38;5;124mtotal = \u001b[39m\u001b[38;5;124m\"\u001b[39m,total)\n\u001b[1;32m     12\u001b[0m \u001b[38;5;28mprint\u001b[39m(\u001b[38;5;124m\"\u001b[39m\u001b[38;5;124mdiscount=\u001b[39m\u001b[38;5;124m\"\u001b[39m,discount)\n",
      "\u001b[0;31mTypeError\u001b[0m: unsupported operand type(s) for *: 'float' and 'dict_values'"
     ]
    }
   ],
   "source": [
    "def calculate_total(**price):\n",
    "    total=(price.values())\n",
    "    return total\n",
    "# price of fruits\n",
    "banana_price=60\n",
    "apple_price=90\n",
    "mango_price=50\n",
    "total=calculate_total(banana=banana_price,apple=apple_price,mango=mango_price)\n",
    "print(\"total = \",total)\n",
    "\n",
    "    \n",
    "    "
   ]
  },
  {
   "cell_type": "code",
   "execution_count": null,
   "metadata": {},
   "outputs": [],
   "source": []
  },
  {
   "cell_type": "markdown",
   "metadata": {},
   "source": []
  },
  {
   "cell_type": "code",
   "execution_count": null,
   "metadata": {},
   "outputs": [],
   "source": []
  }
 ],
 "metadata": {
  "kernelspec": {
   "display_name": "Python 3",
   "language": "python",
   "name": "python3"
  },
  "language_info": {
   "codemirror_mode": {
    "name": "ipython",
    "version": 3
   },
   "file_extension": ".py",
   "mimetype": "text/x-python",
   "name": "python",
   "nbconvert_exporter": "python",
   "pygments_lexer": "ipython3",
   "version": "3.9.6"
  }
 },
 "nbformat": 4,
 "nbformat_minor": 2
}
