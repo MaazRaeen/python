{
 "cells": [
  {
   "cell_type": "markdown",
   "metadata": {},
   "source": [
    "## ASSIGNMENT 3"
   ]
  },
  {
   "cell_type": "markdown",
   "metadata": {},
   "source": [
    "1. Write a Python function named calculate_area that takes the radius of a circle as a parameter and returns the area of the circle. Call the function with a radius of 5 and print the result."
   ]
  },
  {
   "cell_type": "code",
   "execution_count": 15,
   "metadata": {},
   "outputs": [
    {
     "name": "stdout",
     "output_type": "stream",
     "text": [
      "The area of the circle with radius 5 is: 78.53981633974483\n"
     ]
    }
   ],
   "source": [
    "import math\n",
    "\n",
    "def calculate_area(radius):\n",
    "    \"\"\"Calculate the area of a circle given its radius.\"\"\"\n",
    "    area = math.pi * radius ** 2\n",
    "    return area\n",
    "\n",
    "# Call the function with a radius of 5 and print the result\n",
    "radius = 5\n",
    "area_of_circle = calculate_area(radius)\n",
    "print(\"The area of the circle with radius\", radius, \"is:\", area_of_circle)\n"
   ]
  },
  {
   "cell_type": "markdown",
   "metadata": {},
   "source": [
    "2. Differentiate between built-in functions and user-defined functions in Python. Provide examples of each."
   ]
  },
  {
   "cell_type": "markdown",
   "metadata": {},
   "source": [
    "In Python, functions are blocks of reusable code that perform a specific task. There are two main types of functions: built-in functions and user-defined functions.\n",
    "\n",
    "Built-in functions:\n",
    "Built-in functions are functions that are already defined within Python.\n",
    "They are readily available for use without the need for any additional definitions.\n",
    "These functions are part of the Python standard library.\n",
    "Examples of built-in functions include print(), len(), type(), sum(), max(), min(), etc."
   ]
  },
  {
   "cell_type": "code",
   "execution_count": 14,
   "metadata": {},
   "outputs": [
    {
     "name": "stdout",
     "output_type": "stream",
     "text": [
      "Hello, world!\n",
      "6\n",
      "10\n"
     ]
    }
   ],
   "source": [
    "# Example of built-in functions\n",
    "print(\"Hello, world!\")  # prints the string to the console\n",
    "print(len(\"Python\"))     # returns the length of the string\n",
    "print(max(5, 10, 3))     # returns the maximum value among the arguments\n"
   ]
  },
  {
   "cell_type": "markdown",
   "metadata": {},
   "source": [
    "User-defined functions:\n",
    "User-defined functions are functions that users create themselves.\n",
    "They are defined using the def keyword followed by the function name, parameters (if any), and a block of code defining what the function does.\n",
    "Users can define their own functions to perform specific tasks or operations that are not provided by built-in functions.\n",
    "User-defined functions can be called multiple times throughout a program.\n",
    "They enhance code reusability and modularity."
   ]
  },
  {
   "cell_type": "code",
   "execution_count": 13,
   "metadata": {},
   "outputs": [
    {
     "name": "stdout",
     "output_type": "stream",
     "text": [
      "Hello, Alice!\n"
     ]
    }
   ],
   "source": [
    "# Example of a user-defined function\n",
    "def greet(name):\n",
    "    \"\"\"This function greets the user with the given name.\"\"\"\n",
    "    print(f\"Hello, {name}!\")\n",
    "\n",
    "# Calling the user-defined function\n",
    "greet(\"Alice\")  # Output: Hello, Alice!\n"
   ]
  },
  {
   "cell_type": "markdown",
   "metadata": {},
   "source": [
    "3. Create a function called add_numbers that takes variable arguments and returns their sum. Call the function with different numbers of arguments (e.g., 2, 3, 5) and print the results."
   ]
  },
  {
   "cell_type": "code",
   "execution_count": 1,
   "metadata": {},
   "outputs": [
    {
     "name": "stdout",
     "output_type": "stream",
     "text": [
      "Result 1: 5\n",
      "Result 2: 11\n",
      "Result 3: 75\n"
     ]
    }
   ],
   "source": [
    "def add_numbers(*args):\n",
    "    \"\"\"This function takes variable arguments and returns their sum.\"\"\"\n",
    "    return sum(args)\n",
    "\n",
    "# Calling the function with different numbers of arguments\n",
    "result1 = add_numbers(2, 3)\n",
    "result2 = add_numbers(1, 4, 6)\n",
    "result3 = add_numbers(5, 10, 15, 20, 25)\n",
    "\n",
    "# Printing the results\n",
    "print(\"Result 1:\", result1)  # Output: Result 1: 5\n",
    "print(\"Result 2:\", result2)  # Output: Result 2: 11\n",
    "print(\"Result 3:\", result3)  # Output: Result 3: 75\n",
    "\n"
   ]
  },
  {
   "cell_type": "markdown",
   "metadata": {},
   "source": [
    "4. Define an anonymous function (lambda function) that squares a given number. Use the lambda function to square the numbers 1 to 5 and print the results."
   ]
  },
  {
   "cell_type": "markdown",
   "metadata": {},
   "source": [
    "A lambda function in Python is an anonymous function, meaning it's a function without a name. It's defined using the lambda keyword followed by a list of parameters, a colon, and an expression. Lambda functions are often used for s"
   ]
  },
  {
   "cell_type": "code",
   "execution_count": 12,
   "metadata": {},
   "outputs": [
    {
     "name": "stdout",
     "output_type": "stream",
     "text": [
      "The square of 1 is: 1\n",
      "The square of 2 is: 4\n",
      "The square of 3 is: 9\n",
      "The square of 4 is: 16\n",
      "The square of 5 is: 25\n"
     ]
    }
   ],
   "source": [
    "# Define a lambda function to square a given number\n",
    "square = lambda x: x ** 2\n",
    "\n",
    "# Use the lambda function to square numbers 1 to 5 and print the results\n",
    "for i in range(1, 6):\n",
    "    print(f\"The square of {i} is: {square(i)}\")\n"
   ]
  },
  {
   "cell_type": "markdown",
   "metadata": {},
   "source": [
    "5. Explain the concepts of global and local variables in Python. Write a function that uses both global and local variables, demonstrating their scopes."
   ]
  },
  {
   "cell_type": "markdown",
   "metadata": {},
   "source": [
    "Global Variables:\n",
    "\n",
    "Global variables are defined outside of any function or class.\n",
    "They can be accessed from any part of the program, including inside functions.\n",
    "Global variables maintain their value throughout the program's execution.\n",
    "If you want to modify a global variable inside a function, you need to explicitly declare it using the global keyword within the function.\n",
    "Local Variables:\n",
    "\n",
    "Local variables are defined within a function and can only be accessed within that function.\n",
    "They have a limited scope and are destroyed once the function finishes executing.\n",
    "Variables defined as function parameters are also considered local variables.\n",
    "Local variables with the same name as a global variable will shadow the global variable within the function's scope."
   ]
  },
  {
   "cell_type": "code",
   "execution_count": 11,
   "metadata": {},
   "outputs": [
    {
     "name": "stdout",
     "output_type": "stream",
     "text": [
      "Inside the function:\n",
      "Local variable: 20\n",
      "Global variable: 30\n",
      "\n",
      "Outside the function:\n",
      "Global variable: 30\n"
     ]
    }
   ],
   "source": [
    "global_var = 10  # Global variable\n",
    "\n",
    "def my_function():\n",
    "    local_var = 20  # Local variable\n",
    "    global global_var  # Declare global_var as global within the function\n",
    "    global_var = 30  # Modify the global variable\n",
    "\n",
    "    print(\"Inside the function:\")\n",
    "    print(\"Local variable:\", local_var)\n",
    "    print(\"Global variable:\", global_var)\n",
    "\n",
    "# Call the function\n",
    "my_function()\n",
    "\n",
    "# Accessing global variable outside the function\n",
    "print(\"\\nOutside the function:\")\n",
    "print(\"Global variable:\", global_var)\n"
   ]
  },
  {
   "cell_type": "markdown",
   "metadata": {},
   "source": [
    "6. Why exception handling is important? Explain with a suitable example."
   ]
  },
  {
   "cell_type": "markdown",
   "metadata": {},
   "source": [
    "Exception handling is crucial because it allows your program to gracefully handle unexpected errors or exceptional situations that may occur during execution. Without proper exception handling, these errors could cause your program to crash or behave unpredictably, leading to a poor user experience or even data loss.\n",
    "\n",
    "Here's a simple example to illustrate why exception handling is important:\n",
    "\n",
    "Imagine you're writing a program that prompts the user to enter their age, and then calculates the year they were born. If the user accidentally enters a non-numeric value (like their name instead of their age), your program might encounter an error when trying to perform arithmetic operations on a non-numeric input.\n",
    "\n",
    "By implementing exception handling, you can anticipate this possibility and handle it gracefully. For instance, you could catch the error that occurs when trying to convert the user input to a number, and instead display a friendly error message asking the user to enter a valid age"
   ]
  },
  {
   "cell_type": "code",
   "execution_count": 10,
   "metadata": {},
   "outputs": [
    {
     "name": "stdout",
     "output_type": "stream",
     "text": [
      "You were born in 2004\n"
     ]
    }
   ],
   "source": [
    "try:\n",
    "    age = int(input(\"Enter your age: \"))\n",
    "    birth_year = 2024 - age\n",
    "    print(\"You were born in\", birth_year)\n",
    "except ValueError:\n",
    "    print(\"Please enter a valid age as a number.\")\n"
   ]
  },
  {
   "cell_type": "markdown",
   "metadata": {},
   "source": [
    "7. Write a Python script that attempts to open a non-existent file. Use the try and except clauses to handle the FileNotFoundError and print a custom error message."
   ]
  },
  {
   "cell_type": "markdown",
   "metadata": {},
   "source": [
    "Exception handling is important because it allows you to gracefully handle errors and unexpected situations in your code. Instead of crashing the program when an error occurs, you can anticipate potential issues and handle them appropriately. This helps in ensuring the robustness and reliability of your code."
   ]
  },
  {
   "cell_type": "code",
   "execution_count": 8,
   "metadata": {},
   "outputs": [
    {
     "name": "stdout",
     "output_type": "stream",
     "text": [
      "Error: The file does not exist.\n"
     ]
    }
   ],
   "source": [
    "try:\n",
    "    # Attempt to open a non-existent file\n",
    "    with open(\"nonexistent_file.txt\", \"r\") as file:\n",
    "        content = file.read()\n",
    "    print(content)\n",
    "except FileNotFoundError:\n",
    "    # Handle the FileNotFoundError exception\n",
    "    print(\"Error: The file does not exist.\")\n"
   ]
  },
  {
   "cell_type": "markdown",
   "metadata": {},
   "source": [
    "8. Explain the purpose of the finally clause in exception handling. Provide an example scenario where the finally clause is useful."
   ]
  },
  {
   "cell_type": "markdown",
   "metadata": {},
   "source": [
    "\n",
    "The finally clause in exception handling is used to define a block of code that will be executed regardless of whether an exception is raised or not. It ensures that certain cleanup or finalization tasks are performed, making it useful for scenarios where you want to guarantee that certain actions are taken regardless of the outcome of the preceding code block\n"
   ]
  },
  {
   "cell_type": "code",
   "execution_count": 7,
   "metadata": {},
   "outputs": [],
   "source": [
    "try:\n",
    "    # Attempt to open a file for writing\n",
    "    file = open(\"example.txt\", \"w\")\n",
    "    file.write(\"Hello, world!\")\n",
    "except IOError:\n",
    "    # Handle IOError exception\n",
    "    print(\"Error: Unable to write to the file.\")\n",
    "finally:\n",
    "    # Close the file, regardless of whether an exception occurred or not\n",
    "    file.close()\n"
   ]
  },
  {
   "cell_type": "markdown",
   "metadata": {},
   "source": [
    "9. Create a Python program that defines a custom exception called NegativeValueError. Write a function that accepts a number as a parameter and raises this exception if the number is negative"
   ]
  },
  {
   "cell_type": "code",
   "execution_count": 6,
   "metadata": {},
   "outputs": [
    {
     "name": "stdout",
     "output_type": "stream",
     "text": [
      "Error: Negative values are not allowed.\n"
     ]
    }
   ],
   "source": [
    "# Define custom exception NegativeValueError\n",
    "class NegativeValueError(Exception):\n",
    "    pass\n",
    "\n",
    "# Function to check if a number is negative and raise NegativeValueError if so\n",
    "def check_positive_number(num):\n",
    "    if num < 0:\n",
    "        raise NegativeValueError(\"Error: Negative values are not allowed.\")\n",
    "    else:\n",
    "        print(\"The number is positive.\")\n",
    "\n",
    "# Example usage\n",
    "try:\n",
    "    num = int(input(\"Enter a number: \"))\n",
    "    check_positive_number(num)\n",
    "except ValueError:\n",
    "    print(\"Error: Please enter a valid integer.\")\n",
    "except NegativeValueError as e:\n",
    "    print(e)\n"
   ]
  },
  {
   "cell_type": "markdown",
   "metadata": {},
   "source": [
    "10. Design a Python function that takes two parameters (numerator and denominator) and calculates the quotient. Handle potential division by zero exceptions using a custom exception. Test the function with different inputs."
   ]
  },
  {
   "cell_type": "code",
   "execution_count": 4,
   "metadata": {},
   "outputs": [
    {
     "name": "stdout",
     "output_type": "stream",
     "text": [
      "Quotient: 5.0\n",
      "Error: Division by zero is not allowed.\n",
      "Quotient: 2.0\n"
     ]
    }
   ],
   "source": [
    "# Define custom exception DivisionByZeroError\n",
    "class DivisionByZeroError(Exception):\n",
    "    pass\n",
    "\n",
    "# Function to calculate quotient\n",
    "def calculate_quotient(numerator, denominator):\n",
    "    try:\n",
    "        if denominator == 0:\n",
    "            raise DivisionByZeroError(\"Error: Division by zero is not allowed.\")\n",
    "        else:\n",
    "            quotient = numerator / denominator\n",
    "            print(\"Quotient:\", quotient)\n",
    "    except DivisionByZeroError as e:\n",
    "        print(e)\n",
    "\n",
    "# Test the function with different inputs\n",
    "calculate_quotient(10, 2)  # Output: Quotient: 5.0\n",
    "calculate_quotient(5, 0)   # Output: Error: Division by zero is not allowed.\n",
    "calculate_quotient(8, 4)   # Output: Quotient: 2.0\n"
   ]
  },
  {
   "cell_type": "markdown",
   "metadata": {},
   "source": [
    "11. Write a recursive function to generate the first n terms of the Fibonacci sequence."
   ]
  },
  {
   "cell_type": "code",
   "execution_count": 3,
   "metadata": {},
   "outputs": [
    {
     "name": "stdout",
     "output_type": "stream",
     "text": [
      "The first 10 terms of the Fibonacci sequence are: [0, 1, 1, 2, 3, 5, 8, 13, 21, 34]\n"
     ]
    }
   ],
   "source": [
    "def fibonacci(n):\n",
    "    \"\"\"Generate the first n terms of the Fibonacci sequence.\"\"\"\n",
    "    # Base case: return 0 if n is 0\n",
    "    if n == 0:\n",
    "        return []\n",
    "    # Base case: return [0] if n is 1\n",
    "    elif n == 1:\n",
    "        return [0]\n",
    "    # Base case: return [0, 1] if n is 2\n",
    "    elif n == 2:\n",
    "        return [0, 1]\n",
    "    else:\n",
    "        # Recursive case: generate the Fibonacci sequence\n",
    "        fib_sequence = fibonacci(n - 1)\n",
    "        fib_sequence.append(fib_sequence[-1] + fib_sequence[-2])\n",
    "        return fib_sequence\n",
    "\n",
    "# Test the function with different inputs\n",
    "n_terms = 10\n",
    "fibonacci_sequence = fibonacci(n_terms)\n",
    "print(f\"The first {n_terms} terms of the Fibonacci sequence are:\", fibonacci_sequence)\n"
   ]
  },
  {
   "cell_type": "markdown",
   "metadata": {},
   "source": [
    "12. Define a function named greet_user that takes two parameters, name and greeting. If greeting is not provided, the function should default to \"Hello.\" The function should then print the greeting followed by the name."
   ]
  },
  {
   "cell_type": "code",
   "execution_count": 2,
   "metadata": {},
   "outputs": [
    {
     "name": "stdout",
     "output_type": "stream",
     "text": [
      "Hello, Alice!\n",
      "Hi, Bob!\n"
     ]
    }
   ],
   "source": [
    "def greet_user(name, greeting=\"Hello\"):\n",
    "    \"\"\"Print a greeting followed by the name.\"\"\"\n",
    "    print(f\"{greeting}, {name}!\")\n",
    "\n",
    "# Test the function\n",
    "greet_user(\"Alice\")  # Output: Hello, Alice!\n",
    "greet_user(\"Bob\", \"Hi\")  # Output: Hi, Bob!\n",
    "    "
   ]
  },
  {
   "cell_type": "markdown",
   "metadata": {},
   "source": [
    "## ASSIGNMENT  4"
   ]
  },
  {
   "cell_type": "markdown",
   "metadata": {},
   "source": [
    "1. Define a Python class named Car with attributes such as make, model, and year. Create two objects of the class and print their details.\n"
   ]
  },
  {
   "cell_type": "code",
   "execution_count": 1,
   "metadata": {},
   "outputs": [
    {
     "name": "stdout",
     "output_type": "stream",
     "text": [
      "Details of Car 1:\n",
      "Make: Toyota, Model: Camry, Year: 2022\n",
      "\n",
      "Details of Car 2:\n",
      "Make: Honda, Model: Accord, Year: 2023\n"
     ]
    }
   ],
   "source": [
    "class Car:\n",
    "    def __init__(self, make, model, year):\n",
    "        self.make = make\n",
    "        self.model = model\n",
    "        self.year = year\n",
    "    \n",
    "    def details(self):\n",
    "        return f\"Make: {self.make}, Model: {self.model}, Year: {self.year}\"\n",
    "\n",
    "# Creating two Car objects\n",
    "car1 = Car(\"Toyota\", \"Camry\", 2022)\n",
    "car2 = Car(\"Honda\", \"Accord\", 2023)\n",
    "\n",
    "# Printing details of the cars\n",
    "print(\"Details of Car 1:\")\n",
    "print(car1.details())\n",
    "\n",
    "print(\"\\nDetails of Car 2:\")\n",
    "print(car2.details())\n"
   ]
  },
  {
   "cell_type": "markdown",
   "metadata": {},
   "source": [
    "2. Implement a Python class named Person with private attributes for name, age, and address. Provide methods to get and set these attributes. Demonstrate encapsulation by accessing these attributes only through the methods."
   ]
  },
  {
   "cell_type": "code",
   "execution_count": 4,
   "metadata": {},
   "outputs": [
    {
     "name": "stdout",
     "output_type": "stream",
     "text": [
      "Name: John\n",
      "Age: 30\n",
      "Address: 123 Main St\n",
      "\n",
      "Modified Details:\n",
      "Name: Jane\n",
      "Age: 35\n",
      "Address: 456 Elm St\n"
     ]
    }
   ],
   "source": [
    "class Person:\n",
    "    def __init__(self, name, age, address):\n",
    "        self.__name = name\n",
    "        self.__age = age\n",
    "        self.__address = address\n",
    "    \n",
    "    def get_name(self):\n",
    "        return self.__name\n",
    "    \n",
    "    def set_name(self, name):\n",
    "        self.__name = name\n",
    "    \n",
    "    def get_age(self):\n",
    "        return self.__age\n",
    "    \n",
    "    def set_age(self, age):\n",
    "        self.__age = age\n",
    "    \n",
    "    def get_address(self):\n",
    "        return self.__address\n",
    "    \n",
    "    def set_address(self, address):\n",
    "        self.__address = address\n",
    "\n",
    "# Creating a Person object\n",
    "person = Person(\"John\", 30, \"123 Main St\")\n",
    "\n",
    "# Accessing attributes using methods\n",
    "print(\"Name:\", person.get_name())\n",
    "print(\"Age:\", person.get_age())\n",
    "print(\"Address:\", person.get_address())\n",
    "\n",
    "# Modifying attributes using methods\n",
    "person.set_name(\"Jane\")\n",
    "person.set_age(35)\n",
    "person.set_address(\"456 Elm St\")\n",
    "\n",
    "# Accessing modified attributes using methods\n",
    "print(\"\\nModified Details:\")\n",
    "print(\"Name:\", person.get_name())\n",
    "print(\"Age:\", person.get_age())\n",
    "print(\"Address:\", person.get_address())\n"
   ]
  },
  {
   "cell_type": "markdown",
   "metadata": {},
   "source": [
    "4. Create an abstract class Shape with an abstract method area. Implement two concrete classes, Circle and Rectangle, that inherit from Shape and provide their own implementations of the area method. Demonstrate polymorphism by calling the area method on objects of both classes."
   ]
  },
  {
   "cell_type": "code",
   "execution_count": 5,
   "metadata": {},
   "outputs": [
    {
     "name": "stdout",
     "output_type": "stream",
     "text": [
      "Area of Circle: 78.53981633974483\n",
      "Area of Rectangle: 24\n"
     ]
    }
   ],
   "source": [
    "from abc import ABC, abstractmethod\n",
    "import math\n",
    "\n",
    "class Shape(ABC):\n",
    "    @abstractmethod\n",
    "    def area(self):\n",
    "        pass\n",
    "\n",
    "class Circle(Shape):\n",
    "    def __init__(self, radius):\n",
    "        self.radius = radius\n",
    "    \n",
    "    def area(self):\n",
    "        return math.pi * self.radius ** 2\n",
    "\n",
    "class Rectangle(Shape):\n",
    "    def __init__(self, width, height):\n",
    "        self.width = width\n",
    "        self.height = height\n",
    "    \n",
    "    def area(self):\n",
    "        return self.width * self.height\n",
    "\n",
    "# Creating objects of Circle and Rectangle\n",
    "circle = Circle(5)\n",
    "rectangle = Rectangle(4, 6)\n",
    "\n",
    "# Calling the area method on objects of both classes\n",
    "print(\"Area of Circle:\", circle.area())\n",
    "print(\"Area of Rectangle:\", rectangle.area())\n"
   ]
  },
  {
   "cell_type": "markdown",
   "metadata": {},
   "source": [
    "5. Create a class with a static variable that counts the number of instances created. Demonstrate how the static variable is shared among all instances."
   ]
  },
  {
   "cell_type": "code",
   "execution_count": 1,
   "metadata": {},
   "outputs": [
    {
     "name": "stdout",
     "output_type": "stream",
     "text": [
      "Number of instances created: 3\n",
      "Number of instances created: 4\n"
     ]
    }
   ],
   "source": [
    "class MyClass:\n",
    "    # Static variable to count the number of instances\n",
    "    instance_count = 0\n",
    "    \n",
    "    def __init__(self):\n",
    "        # Increment the instance count when a new instance is created\n",
    "        MyClass.instance_count += 1\n",
    "    \n",
    "    @staticmethod\n",
    "    def get_instance_count():\n",
    "        # Static method to access the instance count\n",
    "        return MyClass.instance_count\n",
    "\n",
    "# Creating instances of MyClass\n",
    "obj1 = MyClass()\n",
    "obj2 = MyClass()\n",
    "obj3 = MyClass()\n",
    "\n",
    "# Accessing the instance count using static method\n",
    "print(\"Number of instances created:\", MyClass.get_instance_count())  # Output: 3\n",
    "\n",
    "# Creating another instance\n",
    "obj4 = MyClass()\n",
    "\n",
    "# Accessing the instance count again\n",
    "print(\"Number of instances created:\", MyClass.get_instance_count())  # Output: 4\n"
   ]
  },
  {
   "cell_type": "markdown",
   "metadata": {},
   "source": [
    "6. Explain the use of the final keyword in Python. Provide an example scenario where using final would be appropriate."
   ]
  },
  {
   "cell_type": "markdown",
   "metadata": {},
   "source": [
    "Ans. In Python, the final keyword is not directly available like in some other programming languages such as Java. However, there are conventions and techniques to achieve similar behavior through other means.\n",
    "\n",
    "The final keyword in languages like Java is used to prevent inheritance, method overriding, or variable reassignment. It essentially marks a class, method, or variable as \"final,\" meaning it cannot be subclassed, overridden, or reassigned, respectively.\n",
    "\n",
    "In Python, you can achieve similar behavior using different conventions or techniques. Here are some approaches:\n",
    "\n",
    "Using Convention: Python doesn't enforce restrictions like Java does with final, but you can use naming conventions to indicate that certain attributes or methods should not be overridden or modified. Prefixing such attributes or methods with an underscore (_) can signal to other developers that they are not intended for modification.\n",
    "\n",
    "Using Properties and Descriptors: You can use properties and descriptors to control access to attributes, effectively making them read-only or preventing modification after initialization.\n",
    "\n",
    "Metaclasses: You can use metaclasses to control class creation and prevent subclasses from overriding certain methods or attributes.\n",
    "\n",
    "Data Classes: If you're dealing with data structures, Python's dataclasses module provides a way to create immutable classes automatically, where attributes cannot be modified after initialization"
   ]
  },
  {
   "cell_type": "code",
   "execution_count": 2,
   "metadata": {},
   "outputs": [
    {
     "name": "stdout",
     "output_type": "stream",
     "text": [
      "3.14159\n"
     ]
    },
    {
     "ename": "AttributeError",
     "evalue": "property 'PI' of 'MathConstants' object has no setter",
     "output_type": "error",
     "traceback": [
      "\u001b[1;31m---------------------------------------------------------------------------\u001b[0m",
      "\u001b[1;31mAttributeError\u001b[0m                            Traceback (most recent call last)",
      "Cell \u001b[1;32mIn[2], line 13\u001b[0m\n\u001b[0;32m     10\u001b[0m \u001b[38;5;28mprint\u001b[39m(math_constants\u001b[38;5;241m.\u001b[39mPI)  \u001b[38;5;66;03m# Output: 3.14159\u001b[39;00m\n\u001b[0;32m     12\u001b[0m \u001b[38;5;66;03m# Trying to modify the value of PI\u001b[39;00m\n\u001b[1;32m---> 13\u001b[0m \u001b[43mmath_constants\u001b[49m\u001b[38;5;241;43m.\u001b[39;49m\u001b[43mPI\u001b[49m \u001b[38;5;241m=\u001b[39m \u001b[38;5;241m3.14\u001b[39m  \u001b[38;5;66;03m# This will raise an AttributeError\u001b[39;00m\n",
      "\u001b[1;31mAttributeError\u001b[0m: property 'PI' of 'MathConstants' object has no setter"
     ]
    }
   ],
   "source": [
    "class MathConstants:\n",
    "    _PI = 3.14159  # Prefixing with underscore to indicate it's not intended for modification\n",
    "    \n",
    "    @property\n",
    "    def PI(self):\n",
    "        return self._PI\n",
    "\n",
    "# Usage\n",
    "math_constants = MathConstants()\n",
    "print(math_constants.PI)  # Output: 3.14159\n",
    "\n",
    "# Trying to modify the value of PI\n",
    "math_constants.PI = 3.14  # This will raise an AttributeError\n"
   ]
  },
  {
   "cell_type": "markdown",
   "metadata": {},
   "source": [
    "7. Develop a Python class with private, protected, and public attributes. Create methods to access and modify these attributes, demonstrating the impact of different access modifiers."
   ]
  },
  {
   "cell_type": "code",
   "execution_count": 3,
   "metadata": {},
   "outputs": [
    {
     "name": "stdout",
     "output_type": "stream",
     "text": [
      "Public attribute: Public\n",
      "Modified public attribute: New Public\n",
      "Protected attribute: Protected\n",
      "Modified protected attribute: New Protected\n",
      "Private attribute: Private\n",
      "Modified private attribute: New Private\n"
     ]
    }
   ],
   "source": [
    "class MyClass:\n",
    "    def __init__(self):\n",
    "        # Public attribute\n",
    "        self.public_attribute = \"Public\"\n",
    "        # Protected attribute (conventionally indicated with a single underscore)\n",
    "        self._protected_attribute = \"Protected\"\n",
    "        # Private attribute (conventionally indicated with double underscores)\n",
    "        self.__private_attribute = \"Private\"\n",
    "    \n",
    "    # Method to access public attribute\n",
    "    def get_public_attribute(self):\n",
    "        return self.public_attribute\n",
    "    \n",
    "    # Method to modify public attribute\n",
    "    def set_public_attribute(self, value):\n",
    "        self.public_attribute = value\n",
    "    \n",
    "    # Method to access protected attribute\n",
    "    def get_protected_attribute(self):\n",
    "        return self._protected_attribute\n",
    "    \n",
    "    # Method to modify protected attribute\n",
    "    def set_protected_attribute(self, value):\n",
    "        self._protected_attribute = value\n",
    "    \n",
    "    # Method to access private attribute\n",
    "    def get_private_attribute(self):\n",
    "        return self.__private_attribute\n",
    "    \n",
    "    # Method to modify private attribute\n",
    "    def set_private_attribute(self, value):\n",
    "        self.__private_attribute = value\n",
    "\n",
    "# Creating an instance of MyClass\n",
    "obj = MyClass()\n",
    "\n",
    "# Accessing and modifying public attribute\n",
    "print(\"Public attribute:\", obj.get_public_attribute())  # Output: Public\n",
    "obj.set_public_attribute(\"New Public\")\n",
    "print(\"Modified public attribute:\", obj.get_public_attribute())  # Output: New Public\n",
    "\n",
    "# Accessing and modifying protected attribute\n",
    "print(\"Protected attribute:\", obj.get_protected_attribute())  # Output: Protected\n",
    "obj.set_protected_attribute(\"New Protected\")\n",
    "print(\"Modified protected attribute:\", obj.get_protected_attribute())  # Output: New Protected\n",
    "\n",
    "# Accessing and modifying private attribute\n",
    "# Note: Direct access will result in AttributeError, we use methods instead\n",
    "print(\"Private attribute:\", obj.get_private_attribute())  # Output: Private\n",
    "obj.set_private_attribute(\"New Private\")\n",
    "print(\"Modified private attribute:\", obj.get_private_attribute())  # Output: New Private\n"
   ]
  },
  {
   "cell_type": "markdown",
   "metadata": {},
   "source": [
    "8. Define a class with a class variable. Demonstrate how the scope of the class variable differs from the instance variable and create instances to illustrate this scope."
   ]
  },
  {
   "cell_type": "code",
   "execution_count": 4,
   "metadata": {},
   "outputs": [
    {
     "name": "stdout",
     "output_type": "stream",
     "text": [
      "Accessing class variable through class name: I am a class variable\n",
      "Instance 1 variable: Instance 1\n",
      "Instance 2 variable: Instance 2\n",
      "Accessing class variable through instance (obj1): I am a class variable\n",
      "Accessing class variable through instance (obj2): I am a class variable\n",
      "Class variable after modification (through obj1): Modified class variable\n",
      "Class variable after modification (through obj2): Modified class variable\n"
     ]
    }
   ],
   "source": [
    "\n",
    "class MyClass:\n",
    "    class_variable = \"I am a class variable\"\n",
    "\n",
    "    def __init__(self, instance_variable):\n",
    "        self.instance_variable = instance_variable\n",
    "\n",
    "# Accessing class variable through class name\n",
    "print(\"Accessing class variable through class name:\", MyClass.class_variable)\n",
    "\n",
    "# Creating instances\n",
    "obj1 = MyClass(\"Instance 1\")\n",
    "obj2 = MyClass(\"Instance 2\")\n",
    "\n",
    "# Accessing instance variables\n",
    "print(\"Instance 1 variable:\", obj1.instance_variable)\n",
    "print(\"Instance 2 variable:\", obj2.instance_variable)\n",
    "\n",
    "# Accessing class variable through instances\n",
    "print(\"Accessing class variable through instance (obj1):\", obj1.class_variable)\n",
    "print(\"Accessing class variable through instance (obj2):\", obj2.class_variable)\n",
    "\n",
    "# Modifying class variable\n",
    "MyClass.class_variable = \"Modified class variable\"\n",
    "\n",
    "# Demonstrating class variable change\n",
    "print(\"Class variable after modification (through obj1):\", obj1.class_variable)\n",
    "print(\"Class variable after modification (through obj2):\", obj2.class_variable)\n"
   ]
  },
  {
   "cell_type": "markdown",
   "metadata": {},
   "source": [
    "9. Explain the concept of file handling in Python. Mention different file modes and their purposes."
   ]
  },
  {
   "cell_type": "markdown",
   "metadata": {},
   "source": [
    "File handling in Python refers to the process of working with files on the filesystem. Python provides several built-in functions and methods for performing various operations on files, such as reading, writing, appending, and closing files. Here's an overview of the main concepts and functionalities related to file handling in Python:\n",
    "\n",
    "1. Opening Files: Before performing any operation on a file, you need to open it. Python provides the built-in open() function for this purpose. It takes the file path and the mode in which you want to open the file as parameters.\n",
    "\n",
    "2. File Modes:\n",
    "\n",
    "'r': Open a file for reading only. The file pointer is placed at the beginning of the file.\n",
    "'w': Open a file for writing. If the file already exists, it truncates the file to zero length. If the file does not exist, it creates a new file.\n",
    "'a': Open a file for appending. The file pointer is at the end of the file if the file exists. If the file does not exist, it creates a new file for writing.\n",
    "'b': (Optional) Used in conjunction with other file modes to open a file in binary mode.\n",
    "'+': (Optional) Open a file for both reading and writing (updating). The file pointer is placed at the beginning of the file.\n",
    "\n",
    "3. Closing Files: It's important to close files after you finish working with them to release system resources. You can close files using the close() method.\n",
    "\n",
    "4. Reading Files: Once a file is opened for reading, you can read its contents using various methods such as read(), readline(), or readlines().\n",
    "\n",
    "5. Writing to Files: Once a file is opened for writing, you can write data to it using the write() method.\n",
    "\n",
    "6. Appending to Files: Similar to writing, appending allows you to add data to the end of an existing file."
   ]
  },
  {
   "cell_type": "code",
   "execution_count": 5,
   "metadata": {},
   "outputs": [
    {
     "name": "stdout",
     "output_type": "stream",
     "text": [
      "File content (read mode): This is a sample text.\n",
      "File content after appending: This is a sample text.\n",
      "Appending new text.\n"
     ]
    }
   ],
   "source": [
    "# Opening a file for writing ('w' mode)\n",
    "with open('example.txt', 'w') as file:\n",
    "    file.write('This is a sample text.')\n",
    "\n",
    "# Opening the same file for reading ('r' mode)\n",
    "with open('example.txt', 'r') as file:\n",
    "    data = file.read()\n",
    "    print(\"File content (read mode):\", data)\n",
    "\n",
    "# Opening the same file for appending ('a' mode)\n",
    "with open('example.txt', 'a') as file:\n",
    "    file.write('\\nAppending new text.')\n",
    "\n",
    "# Reopening the file for reading ('r' mode) to see the appended content\n",
    "with open('example.txt', 'r') as file:\n",
    "    data = file.read()\n",
    "    print(\"File content after appending:\", data)\n"
   ]
  },
  {
   "cell_type": "markdown",
   "metadata": {},
   "source": [
    "10. Write a Python script that reads a text file, counts the occurrences of each word, and writes the word frequencies to a new file. Handle potential exceptions during file operations."
   ]
  },
  {
   "cell_type": "code",
   "execution_count": 6,
   "metadata": {},
   "outputs": [
    {
     "name": "stdout",
     "output_type": "stream",
     "text": [
      "Error: Input file not found.\n"
     ]
    }
   ],
   "source": [
    "def count_word_frequencies(input_file, output_file):\n",
    "    word_counts = {}\n",
    "    \n",
    "    try:\n",
    "        # Open the input file for reading\n",
    "        with open(input_file, 'r') as file:\n",
    "            # Read the content of the file\n",
    "            content = file.read()\n",
    "            \n",
    "            # Split the content into words\n",
    "            words = content.split()\n",
    "            \n",
    "            # Count the occurrences of each word\n",
    "            for word in words:\n",
    "                word_counts[word] = word_counts.get(word, 0) + 1\n",
    "                \n",
    "    except FileNotFoundError:\n",
    "        print(\"Error: Input file not found.\")\n",
    "        return\n",
    "    \n",
    "    try:\n",
    "        # Open the output file for writing\n",
    "        with open(output_file, 'w') as file:\n",
    "            # Write the word frequencies to the output file\n",
    "            for word, count in word_counts.items():\n",
    "                file.write(f\"{word}: {count}\\n\")\n",
    "                \n",
    "    except PermissionError:\n",
    "        print(\"Error: Permission denied to write to the output file.\")\n",
    "        return\n",
    "    \n",
    "    print(\"Word frequencies have been written to the output file successfully.\")\n",
    "\n",
    "# Usage example\n",
    "input_file = \"input.txt\"\n",
    "output_file = \"output.txt\"\n",
    "count_word_frequencies(input_file, output_file)\n"
   ]
  },
  {
   "cell_type": "markdown",
   "metadata": {},
   "source": [
    "11. A given file data.txt has numbers in it. Read the file and print all the prime numbers from the file."
   ]
  },
  {
   "cell_type": "markdown",
   "metadata": {},
   "source": [
    "To achieve this task, you can follow these steps:\n",
    "\n",
    "1. Read the contents of the file data.txt.\n",
    "2. Parse the numbers from the file.\n",
    "3. Check each number if it's prime.\n",
    "4. Print all prime numbers."
   ]
  },
  {
   "cell_type": "code",
   "execution_count": 8,
   "metadata": {},
   "outputs": [
    {
     "name": "stdout",
     "output_type": "stream",
     "text": [
      "Error: File not found.\n"
     ]
    }
   ],
   "source": [
    "def is_prime(num):\n",
    "    if num <= 1:\n",
    "        return False\n",
    "    if num <= 3:\n",
    "        return True\n",
    "    if num % 2 == 0 or num % 3 == 0:\n",
    "        return False\n",
    "    i = 5\n",
    "    while i * i <= num:\n",
    "        if num % i == 0 or num % (i + 2) == 0:\n",
    "            return False\n",
    "        i += 6\n",
    "    return True\n",
    "\n",
    "def print_prime_numbers_from_file(file_name):\n",
    "    try:\n",
    "        with open(file_name, 'r') as file:\n",
    "            # Read all lines and flatten them into a single list of numbers\n",
    "            numbers = [int(num) for line in file for num in line.split()]\n",
    "            prime_numbers = [num for num in numbers if is_prime(num)]\n",
    "            if prime_numbers:\n",
    "                print(\"Prime numbers:\", prime_numbers)\n",
    "            else:\n",
    "                print(\"No prime numbers found in the file.\")\n",
    "    except FileNotFoundError:\n",
    "        print(\"Error: File not found.\")\n",
    "    except PermissionError:\n",
    "        print(\"Error: Permission denied to read the file.\")\n",
    "\n",
    "# Call the function with the file name\n",
    "print_prime_numbers_from_file('data.txt')\n"
   ]
  },
  {
   "cell_type": "markdown",
   "metadata": {},
   "source": [
    "12. From a given file data.txt, count the number of words, sentences and number of lines and print."
   ]
  },
  {
   "cell_type": "code",
   "execution_count": 9,
   "metadata": {},
   "outputs": [
    {
     "name": "stdout",
     "output_type": "stream",
     "text": [
      "Error: File not found.\n"
     ]
    }
   ],
   "source": [
    "def count_words_sentences_lines(file_name):\n",
    "    try:\n",
    "        with open(file_name, 'r') as file:\n",
    "            content = file.read()\n",
    "            # Counting words by splitting the content by whitespace\n",
    "            word_count = len(content.split())\n",
    "            # Counting sentences by splitting the content by '.', '!', or '?'\n",
    "            sentence_count = len(content.split('.') + content.split('!') + content.split('?'))\n",
    "            # Counting lines by splitting the content by '\\n'\n",
    "            line_count = len(content.split('\\n'))\n",
    "\n",
    "            print(\"Number of words:\", word_count)\n",
    "            print(\"Number of sentences:\", sentence_count)\n",
    "            print(\"Number of lines:\", line_count)\n",
    "    except FileNotFoundError:\n",
    "        print(\"Error: File not found.\")\n",
    "    except PermissionError:\n",
    "        print(\"Error: Permission denied to read the file.\")\n",
    "\n",
    "# Call the function with the file name\n",
    "count_words_sentences_lines('data.txt')\n"
   ]
  },
  {
   "cell_type": "markdown",
   "metadata": {},
   "source": [
    "## ASSIGNMENT 5"
   ]
  },
  {
   "cell_type": "markdown",
   "metadata": {},
   "source": [
    "1. Write a Python script that imports the math module and calculates the square root of a given number. Print the result."
   ]
  },
  {
   "cell_type": "code",
   "execution_count": 10,
   "metadata": {},
   "outputs": [
    {
     "name": "stdout",
     "output_type": "stream",
     "text": [
      "Square root of 25 is: 5.0\n"
     ]
    }
   ],
   "source": [
    "import math\n",
    "\n",
    "def calculate_square_root(number):\n",
    "    square_root = math.sqrt(number)\n",
    "    print(\"Square root of\", number, \"is:\", square_root)\n",
    "\n",
    "# Call the function with the desired number\n",
    "calculate_square_root(25)\n"
   ]
  },
  {
   "cell_type": "markdown",
   "metadata": {},
   "source": [
    "2. Create a Python module named calculator that includes functions for addition, subtraction, multiplication, and division. Import this module into another script and perform arithmetic operations using the functions."
   ]
  },
  {
   "cell_type": "code",
   "execution_count": 15,
   "metadata": {},
   "outputs": [],
   "source": [
    "# calculator.py\n",
    "\n",
    "def add(x, y):\n",
    "    return x + y\n",
    "\n",
    "def subtract(x, y):\n",
    "    return x - y\n",
    "\n",
    "def multiply(x, y):\n",
    "    return x * y\n",
    "\n",
    "def divide(x, y):\n",
    "    if y != 0:\n",
    "        return x / y\n",
    "    else:\n",
    "        return \"Cannot divide by zero\"\n"
   ]
  },
  {
   "cell_type": "code",
   "execution_count": 12,
   "metadata": {},
   "outputs": [
    {
     "ename": "ModuleNotFoundError",
     "evalue": "No module named 'calculator'",
     "output_type": "error",
     "traceback": [
      "\u001b[1;31m---------------------------------------------------------------------------\u001b[0m",
      "\u001b[1;31mModuleNotFoundError\u001b[0m                       Traceback (most recent call last)",
      "Cell \u001b[1;32mIn[12], line 3\u001b[0m\n\u001b[0;32m      1\u001b[0m \u001b[38;5;66;03m# main.py\u001b[39;00m\n\u001b[1;32m----> 3\u001b[0m \u001b[38;5;28;01mimport\u001b[39;00m \u001b[38;5;21;01mcalculator\u001b[39;00m\n\u001b[0;32m      5\u001b[0m \u001b[38;5;66;03m# Perform arithmetic operations using functions from the calculator module\u001b[39;00m\n\u001b[0;32m      6\u001b[0m result_addition \u001b[38;5;241m=\u001b[39m calculator\u001b[38;5;241m.\u001b[39madd(\u001b[38;5;241m5\u001b[39m, \u001b[38;5;241m3\u001b[39m)\n",
      "\u001b[1;31mModuleNotFoundError\u001b[0m: No module named 'calculator'"
     ]
    }
   ],
   "source": [
    "# main.py\n",
    "\n",
    "import calculator\n",
    "\n",
    "# Perform arithmetic operations using functions from the calculator module\n",
    "result_addition = calculator.add(5, 3)\n",
    "result_subtraction = calculator.subtract(10, 4)\n",
    "result_multiplication = calculator.multiply(6, 2)\n",
    "result_division = calculator.divide(8, 4)\n",
    "\n",
    "# Print results\n",
    "print(\"Addition:\", result_addition)\n",
    "print(\"Subtraction:\", result_subtraction)\n",
    "print(\"Multiplication:\", result_multiplication)\n",
    "print(\"Division:\", result_division)\n"
   ]
  },
  {
   "cell_type": "markdown",
   "metadata": {},
   "source": [
    "3. Develop a Python program that uses the random module to generate a random number between 1 and 10. Prompt the user to guess the number and provide feedback on whether the guess is correct."
   ]
  },
  {
   "cell_type": "code",
   "execution_count": 16,
   "metadata": {},
   "outputs": [
    {
     "name": "stdout",
     "output_type": "stream",
     "text": [
      "Invalid input. Please enter a valid number.\n"
     ]
    }
   ],
   "source": [
    "import random\n",
    "\n",
    "def guess_number():\n",
    "    # Generate a random number between 1 and 10\n",
    "    target_number = random.randint(1, 10)\n",
    "\n",
    "    # Prompt the user to guess the number\n",
    "    while True:\n",
    "        try:\n",
    "            guess = int(input(\"Guess the number between 1 and 10: \"))\n",
    "            if guess < 1 or guess > 10:\n",
    "                print(\"Please enter a number between 1 and 10.\")\n",
    "                continue\n",
    "            if guess == target_number:\n",
    "                print(\"Congratulations! You guessed the correct number:\", target_number)\n",
    "                break\n",
    "            else:\n",
    "                print(\"Incorrect guess. Try again!\")\n",
    "        except ValueError:\n",
    "            print(\"Invalid input. Please enter a valid number.\")\n",
    "\n",
    "# Call the function to start the game\n",
    "guess_number()\n"
   ]
  },
  {
   "cell_type": "markdown",
   "metadata": {},
   "source": [
    "4. Create a 3x4 numpy array and write a program to find maximum element from each row."
   ]
  },
  {
   "cell_type": "code",
   "execution_count": null,
   "metadata": {},
   "outputs": [],
   "source": [
    "import numpy as np\n",
    "\n",
    "# Create a 3x4 NumPy array\n",
    "array_2d = np.array([[1, 2, 3, 4],\n",
    "                     [5, 6, 7, 8],\n",
    "                     [9, 10, 11, 12]])\n",
    "\n",
    "# Find the maximum element from each row\n",
    "max_elements = np.max(array_2d, axis=1)\n",
    "\n",
    "# Print the maximum element from each row\n",
    "for i, row_max in enumerate(max_elements):\n",
    "    print(\"Maximum element in row\", i+1, \":\", row_max)\n"
   ]
  },
  {
   "cell_type": "markdown",
   "metadata": {},
   "source": [
    "5. Briefly describe the role of Pandas in data analysis."
   ]
  },
  {
   "cell_type": "markdown",
   "metadata": {},
   "source": [
    "1. Data Representation: Provides data structures like Series and DataFrame for representing tabular and time-series data.\n",
    "\n",
    "2. Data Cleaning and Preparation: Offers tools for handling missing data, removing duplicates, and transforming data.\n",
    "\n",
    "3. Exploratory Data Analysis (EDA): Facilitates summary statistics, descriptive analysis, and visualization to gain insights into the data.\n",
    "\n",
    "4. Data Manipulation: Supports operations such as indexing, slicing, reshaping, and advanced operations like pivoting and stacking.\n",
    "\n",
    "5. Time Series Analysis: Robust support for handling time series data, including date/time indexing and resampling.\n",
    "\n",
    "6. Integration with Other Libraries: Seamless integration with other Python libraries like NumPy, Matplotlib, and Scikit-learn for more advanced analysis and modeling tasks."
   ]
  },
  {
   "cell_type": "markdown",
   "metadata": {},
   "source": [
    "7. Plot a comparison plot of x^2 vs x^3 for a set of numbers using matplotlib."
   ]
  },
  {
   "cell_type": "code",
   "execution_count": 1,
   "metadata": {},
   "outputs": [
    {
     "ename": "ModuleNotFoundError",
     "evalue": "No module named 'matplotlib'",
     "output_type": "error",
     "traceback": [
      "\u001b[0;31m---------------------------------------------------------------------------\u001b[0m",
      "\u001b[0;31mModuleNotFoundError\u001b[0m                       Traceback (most recent call last)",
      "Cell \u001b[0;32mIn[1], line 1\u001b[0m\n\u001b[0;32m----> 1\u001b[0m \u001b[38;5;28;01mimport\u001b[39;00m \u001b[38;5;21;01mmatplotlib\u001b[39;00m\u001b[38;5;21;01m.\u001b[39;00m\u001b[38;5;21;01mpyplot\u001b[39;00m \u001b[38;5;28;01mas\u001b[39;00m \u001b[38;5;21;01mplt\u001b[39;00m\n\u001b[1;32m      3\u001b[0m \u001b[38;5;66;03m# Generate a set of numbers for x\u001b[39;00m\n\u001b[1;32m      4\u001b[0m x \u001b[38;5;241m=\u001b[39m \u001b[38;5;28mrange\u001b[39m(\u001b[38;5;241m-\u001b[39m\u001b[38;5;241m10\u001b[39m, \u001b[38;5;241m11\u001b[39m)\n",
      "\u001b[0;31mModuleNotFoundError\u001b[0m: No module named 'matplotlib'"
     ]
    }
   ],
   "source": [
    "import matplotlib.pyplot as plt\n",
    "\n",
    "# Generate a set of numbers for x\n",
    "x = range(-10, 11)\n",
    "\n",
    "# Calculate x^2 and x^3\n",
    "y_squared = [i**2 for i in x]\n",
    "y_cubed = [i**3 for i in x]\n",
    "\n",
    "# Plotting\n",
    "plt.plot(x, y_squared, label='x^2')\n",
    "plt.plot(x, y_cubed, label='x^3')\n",
    "\n",
    "# Adding labels and title\n",
    "plt.xlabel('x')\n",
    "plt.ylabel('y')\n",
    "plt.title('Comparison of x^2 and x^3')\n",
    "plt.legend()\n",
    "\n",
    "# Show plot\n",
    "plt.grid(True)\n",
    "plt.show()\n"
   ]
  },
  {
   "cell_type": "markdown",
   "metadata": {},
   "source": [
    "8. Implement a Python function for linear search that takes a list and a target element as parameters. Return the index of the target element if found, or -1 if not found."
   ]
  },
  {
   "cell_type": "code",
   "execution_count": 4,
   "metadata": {},
   "outputs": [
    {
     "name": "stdout",
     "output_type": "stream",
     "text": [
      "Target element 5 found at index 1.\n"
     ]
    }
   ],
   "source": [
    "def linear_search(arr, target):\n",
    "    \"\"\"\n",
    "    Perform linear search to find the index of the target element in the list.\n",
    "\n",
    "    Parameters:\n",
    "        arr (list): The list to search.\n",
    "        target: The target element to find.\n",
    "\n",
    "    Returns:\n",
    "        int: The index of the target element if found, or -1 if not found.\n",
    "    \"\"\"\n",
    "    for i in range(len(arr)):\n",
    "        if arr[i] == target:\n",
    "            return i\n",
    "    return -1\n",
    "\n",
    "# Example usage:\n",
    "my_list = [3, 5, 1, 9, 2, 7, 8]\n",
    "target_element = 5\n",
    "index = linear_search(my_list, target_element)\n",
    "if index != -1:\n",
    "    print(f\"Target element {target_element} found at index {index}.\")\n",
    "else:\n",
    "    print(f\"Target element {target_element} not found.\")\n"
   ]
  },
  {
   "cell_type": "markdown",
   "metadata": {},
   "source": [
    "9. Write a Python function for binary search that takes a sorted list and a target element as parameters. Return the index of the target element if found, or -1 if not found."
   ]
  },
  {
   "cell_type": "code",
   "execution_count": null,
   "metadata": {},
   "outputs": [],
   "source": [
    "def binary_search(arr, target):\n",
    "    \"\"\"\n",
    "    Perform binary search to find the index of the target element in the sorted list.\n",
    "\n",
    "    Parameters:\n",
    "        arr (list): The sorted list to search.\n",
    "        target: The target element to find.\n",
    "\n",
    "    Returns:\n",
    "        int: The index of the target element if found, or -1 if not found.\n",
    "    \"\"\"\n",
    "    left = 0\n",
    "    right = len(arr) - 1\n",
    "\n",
    "    while left <= right:\n",
    "        mid = (left + right) // 2\n",
    "        if arr[mid] == target:\n",
    "            return mid\n",
    "        elif arr[mid] < target:\n",
    "            left = mid + 1\n",
    "        else:\n",
    "            right = mid - 1\n",
    "\n",
    "    return -1\n",
    "\n",
    "# Example usage:\n",
    "sorted_list = [1, 2, 3, 4, 5, 6, 7, 8, 9]\n",
    "target_element = 5\n",
    "index = binary_search(sorted_list, target_element)\n",
    "if index != -1:\n",
    "    print(f\"Target element {target_element} found at index {index}.\")\n",
    "else:\n",
    "    print(f\"Target element {target_element} not found.\")\n"
   ]
  },
  {
   "cell_type": "markdown",
   "metadata": {},
   "source": [
    "10. Develop a Python function to perform the Bubble Sort algorithm on a list of integers. Print the sorted list and discuss the time complexity of Bubble Sort."
   ]
  },
  {
   "cell_type": "code",
   "execution_count": null,
   "metadata": {},
   "outputs": [],
   "source": [
    "def bubble_sort(arr):\n",
    "    \"\"\"\n",
    "    Perform Bubble Sort algorithm to sort a list of integers.\n",
    "\n",
    "    Parameters:\n",
    "        arr (list): The list of integers to be sorted.\n",
    "    \"\"\"\n",
    "    n = len(arr)\n",
    "    # Traverse through all elements in the list\n",
    "    for i in range(n):\n",
    "        # Last i elements are already in place, so we don't need to check them\n",
    "        for j in range(0, n - i - 1):\n",
    "            # Traverse the list from 0 to n-i-1\n",
    "            # Swap if the element found is greater than the next element\n",
    "            if arr[j] > arr[j + 1]:\n",
    "                arr[j], arr[j + 1] = arr[j + 1], arr[j]\n",
    "\n",
    "# Example usage:\n",
    "my_list = [64, 34, 25, 12, 22, 11, 90]\n",
    "bubble_sort(my_list)\n",
    "print(\"Sorted list:\", my_list)\n"
   ]
  },
  {
   "cell_type": "markdown",
   "metadata": {},
   "source": [
    "11. Utilize NumPy to sort a NumPy array of integers in ascending order. Print the sorted array and discuss the advantages of using NumPy for sorting."
   ]
  },
  {
   "cell_type": "code",
   "execution_count": null,
   "metadata": {},
   "outputs": [],
   "source": [
    "import numpy as np\n",
    "\n",
    "# Create a NumPy array of integers\n",
    "arr = np.array([64, 34, 25, 12, 22, 11, 90])\n",
    "\n",
    "# Sort the array in ascending order\n",
    "sorted_arr = np.sort(arr)\n",
    "\n",
    "# Print the sorted array\n",
    "print(\"Sorted array:\", sorted_arr)\n"
   ]
  },
  {
   "cell_type": "markdown",
   "metadata": {},
   "source": [
    "Advantages of using NumPy for sorting:\n",
    "\n",
    "1. Efficiency: NumPy is implemented in C, which makes it significantly faster than pure Python implementations for many operations, including sorting. NumPy uses highly optimized algorithms and memory layouts for sorting, resulting in improved performance.\n",
    "\n",
    "2. Convenience: NumPy provides a variety of sorting functions and methods, such as np.sort(), np.argsort(), and np.lexsort(), which offer flexibility and convenience for different sorting needs. These functions support sorting along specific axes, sorting with custom comparison functions, and sorting based on multiple keys.\n",
    "\n",
    "3. Integration with other NumPy operations: NumPy arrays can be seamlessly integrated with other NumPy operations, such as mathematical operations, slicing, and filtering. This allows for efficient data manipulation and analysis workflows where sorting is just one step among many.\n",
    "\n",
    "4. Memory efficiency: NumPy arrays are stored in contiguous memory blocks, which allows for efficient memory access and manipulation. Sorting NumPy arrays is memory-efficient and does not require additional memory allocation for temporary arrays or intermediate results.\n",
    "\n",
    "5. Broadcasting: NumPy supports broadcasting, which allows for element-wise operations between arrays of different shapes and sizes. This enables sorting operations on arrays with complex shapes and dimensions, making NumPy suitable for a wide range of data analysis tasks."
   ]
  },
  {
   "cell_type": "markdown",
   "metadata": {},
   "source": [
    "12. What advantages NumPy offers over lists."
   ]
  },
  {
   "cell_type": "markdown",
   "metadata": {},
   "source": [
    "1. Efficiency: NumPy arrays are implemented in C and optimized for performance, making them much faster than Python lists for numerical operations.\n",
    "\n",
    "2. Memory efficiency: NumPy arrays consume less memory compared to Python lists, especially for large datasets, due to their homogeneous data types and fixed size.\n",
    "\n",
    "3. Convenience: NumPy provides a wide range of functions and methods for array manipulation, mathematical operations, and statistical analysis.\n",
    "\n",
    "4. Vectorized operations: NumPy arrays support vectorized operations, allowing for element-wise operations across entire arrays without explicit looping.\n",
    "\n",
    "5. Broadcasting: NumPy supports broadcasting, enabling operations on arrays with different shapes and sizes without the need for explicit reshaping.\n",
    "\n",
    "6. Parallel computing: NumPy arrays can leverage parallel computing capabilities for optimized linear algebra operations on multi-core processors"
   ]
  }
 ],
 "metadata": {
  "kernelspec": {
   "display_name": "Python 3",
   "language": "python",
   "name": "python3"
  },
  "language_info": {
   "codemirror_mode": {
    "name": "ipython",
    "version": 3
   },
   "file_extension": ".py",
   "mimetype": "text/x-python",
   "name": "python",
   "nbconvert_exporter": "python",
   "pygments_lexer": "ipython3",
   "version": "3.9.6"
  }
 },
 "nbformat": 4,
 "nbformat_minor": 2
}
